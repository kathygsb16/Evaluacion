{
  "nbformat": 4,
  "nbformat_minor": 0,
  "metadata": {
    "colab": {
      "name": "SegundaPrueba.ipynb",
      "provenance": [],
      "collapsed_sections": [
        "3mSVMznB-qow",
        "Mh7pQVBL8a_i"
      ],
      "include_colab_link": true
    },
    "kernelspec": {
      "name": "python3",
      "display_name": "Python 3"
    },
    "language_info": {
      "name": "python"
    }
  },
  "cells": [
    {
      "cell_type": "markdown",
      "metadata": {
        "id": "view-in-github",
        "colab_type": "text"
      },
      "source": [
        "<a href=\"https://colab.research.google.com/github/kathygsb16/Evaluacion/blob/main/SegundaPrueba.ipynb\" target=\"_parent\"><img src=\"https://colab.research.google.com/assets/colab-badge.svg\" alt=\"Open In Colab\"/></a>"
      ]
    },
    {
      "cell_type": "code",
      "source": [
        ""
      ],
      "metadata": {
        "id": "ApnAG5j1fGnt"
      },
      "execution_count": 7,
      "outputs": []
    },
    {
      "cell_type": "markdown",
      "source": [
        "# Importacion de librerias"
      ],
      "metadata": {
        "id": "3mSVMznB-qow"
      }
    },
    {
      "cell_type": "code",
      "execution_count": 8,
      "metadata": {
        "id": "LncJUnW56n8-"
      },
      "outputs": [],
      "source": [
        "import pandas as pd\n",
        "import numpy as np \n",
        "import matplotlib.pyplot as plt \n",
        "import seaborn as sns\n",
        "import pickle as pckl\n",
        "from sklearn import linear_model\n",
        "from sklearn.metrics import mean_squared_error, r2_score\n",
        "from sklearn import svm\n",
        "from sklearn.preprocessing import Normalizer\n",
        "from sklearn import model_selection\n",
        "from sklearn.metrics import confusion_matrix\n",
        "from sklearn.metrics import accuracy_score"
      ]
    },
    {
      "cell_type": "markdown",
      "source": [
        "# Cargar un archivo de datos"
      ],
      "metadata": {
        "id": "Mh7pQVBL8a_i"
      }
    },
    {
      "cell_type": "code",
      "source": [
        "from google.colab import drive\n",
        "drive.mount('/content/drive')"
      ],
      "metadata": {
        "colab": {
          "base_uri": "https://localhost:8080/"
        },
        "id": "FK5MrQ5K6wBI",
        "outputId": "00f56a61-4061-4016-e5ad-31b765c8b9ef"
      },
      "execution_count": 9,
      "outputs": [
        {
          "output_type": "stream",
          "name": "stdout",
          "text": [
            "Drive already mounted at /content/drive; to attempt to forcibly remount, call drive.mount(\"/content/drive\", force_remount=True).\n"
          ]
        }
      ]
    },
    {
      "cell_type": "code",
      "source": [
        "fileName = '/content/drive/MyDrive/M/senate2020.pkl'\n",
        "data = pd.read_pickle(fileName)"
      ],
      "metadata": {
        "id": "EkN6seBM62hP"
      },
      "execution_count": 10,
      "outputs": []
    },
    {
      "cell_type": "markdown",
      "source": [
        "# Tratamiento del DataSet"
      ],
      "metadata": {
        "id": "LpJtz6SE8txI"
      }
    },
    {
      "cell_type": "markdown",
      "source": [
        "Al analizar por primera vez el data set, nos damos cuenta que es multiindice, por lo que debemos llevarlo a solo un indice.\n",
        "\n",
        "1. Reseteamos el indice para que se generen como columnas.\n",
        "2. Eliminamos la primera columna con la funcion **.drop**.\n",
        "3. Nuevamente indexamos la nueva columna que necesitamos.\n",
        "4. Renombramos el indice.\n",
        "\n",
        "\n",
        "\n",
        "Ahora ya nuestro data set esta listo para aplicar el transpose."
      ],
      "metadata": {
        "id": "zBhONGal8_FO"
      }
    },
    {
      "cell_type": "code",
      "source": [
        "data = data.reset_index().drop(['level_0'], axis=1).set_index('level_1').rename_axis('index')\n",
        "dst = np.transpose(data).fillna(0)"
      ],
      "metadata": {
        "id": "gnCL7e-r8y-i"
      },
      "execution_count": 11,
      "outputs": []
    },
    {
      "cell_type": "markdown",
      "source": [
        "Ahora las variables cualitativas las convertimos en cuantitativas para un mejor manejo de los datos."
      ],
      "metadata": {
        "id": "OvvbXv2o-YZ_"
      }
    },
    {
      "cell_type": "code",
      "source": [
        "for names in dst:\n",
        "    dst[names].loc[(dst[names] == 'Si')] = 1\n",
        "    dst[names].loc[(dst[names] == 'No')] = 2\n",
        "    dst[names].loc[(dst[names] == 'Abstencion')] = 3\n",
        "    dst[names].loc[(dst[names] == 'Pareo')] = 4"
      ],
      "metadata": {
        "id": "e6-GQ4an-hjY",
        "colab": {
          "base_uri": "https://localhost:8080/"
        },
        "outputId": "91802f74-0050-4737-eca3-ea6a4dffcf85"
      },
      "execution_count": 12,
      "outputs": [
        {
          "output_type": "stream",
          "name": "stderr",
          "text": [
            "/usr/local/lib/python3.7/dist-packages/pandas/core/indexing.py:1732: SettingWithCopyWarning: \n",
            "A value is trying to be set on a copy of a slice from a DataFrame\n",
            "\n",
            "See the caveats in the documentation: https://pandas.pydata.org/pandas-docs/stable/user_guide/indexing.html#returning-a-view-versus-a-copy\n",
            "  self._setitem_single_block(indexer, value, name)\n"
          ]
        }
      ]
    },
    {
      "cell_type": "markdown",
      "source": [
        "# Análisis Exploratorio"
      ],
      "metadata": {
        "id": "9XJCXx53-ywA"
      }
    },
    {
      "cell_type": "markdown",
      "source": [
        "Veamos cuantas dimensiones y registros contiene"
      ],
      "metadata": {
        "id": "mMnhWXVa-8vp"
      }
    },
    {
      "cell_type": "code",
      "source": [
        "dst.shape"
      ],
      "metadata": {
        "id": "TY1MMJ9p-4XK",
        "colab": {
          "base_uri": "https://localhost:8080/"
        },
        "outputId": "d1764b8c-f03c-4cf5-ffc6-0e13eb09a49a"
      },
      "execution_count": 13,
      "outputs": [
        {
          "output_type": "execute_result",
          "data": {
            "text/plain": [
              "(424, 55)"
            ]
          },
          "metadata": {},
          "execution_count": 13
        }
      ]
    },
    {
      "cell_type": "markdown",
      "source": [
        "Son 424 registros con 55 columnas. Veamos los primeros registros para tener una idea"
      ],
      "metadata": {
        "id": "WQcad2Rw_IT3"
      }
    },
    {
      "cell_type": "code",
      "source": [
        "dst.head()"
      ],
      "metadata": {
        "id": "bL7SwDHR_mxY",
        "colab": {
          "base_uri": "https://localhost:8080/",
          "height": 681
        },
        "outputId": "dd9d626d-aa3e-4472-dde1-ac7d1ee8ffec"
      },
      "execution_count": 14,
      "outputs": [
        {
          "output_type": "execute_result",
          "data": {
            "text/plain": [
              "index Latorre R., Juan Ignacio Coloma C., Juan Antonio García R., José  \\\n",
              "0                            1                       1               1   \n",
              "1                            2                       0               1   \n",
              "2                            1                       1               1   \n",
              "3                            1                       1               1   \n",
              "4                            1                       1               1   \n",
              "\n",
              "index Bianchi C., Carlos Navarro B., Alejandro Allende B., Isabel  \\\n",
              "0                      1                     1                  1   \n",
              "1                      1                     1                  1   \n",
              "2                      1                     0                  1   \n",
              "3                      1                     1                  0   \n",
              "4                      1                     1                  1   \n",
              "\n",
              "index Lagos W., Ricardo García Huidobro S., Alejandro Guillier Á., Alejandro  \\\n",
              "0                     1                             1                      4   \n",
              "1                     0                             0                      1   \n",
              "2                     1                             1                      1   \n",
              "3                     0                             1                      1   \n",
              "4                     1                             1                      1   \n",
              "\n",
              "index Durana S., José Miguel  ... ABSTENCION                          ETAPA  \\\n",
              "0                          1  ...          0  Primer trámite constitucional   \n",
              "1                          1  ...          0  Primer trámite constitucional   \n",
              "2                          0  ...          1  Primer trámite constitucional   \n",
              "3                          1  ...          0  Primer trámite constitucional   \n",
              "4                          1  ...          0  Primer trámite constitucional   \n",
              "\n",
              "index                FECHA NO PAREO                QUORUM   SESION  SI  \\\n",
              "0      2018-12-12 00:00:00  0     1        Mayoría simple   77/366  15   \n",
              "1      2020-06-02 00:00:00  1     0                     0   31/368  37   \n",
              "2      2019-12-30 00:00:00  0     1  Cuatro séptimos Q.C.   89/367  27   \n",
              "3      2019-03-05 00:00:00  0     0        Mayoría simple   94/366  39   \n",
              "4      2020-01-29 00:00:00  0     0  Cuatro séptimos Q.C.  103/367  35   \n",
              "\n",
              "index                                               TEMA          TIPOVOTACION  \n",
              "0      Proyecto de ley, en primer trámite constitucio...     Discusión general  \n",
              "1      Aprobación en particular del proyecto de ley q...     Discusión general  \n",
              "2      Proyecto de ley, en primer trámite constitucio...     Discusión general  \n",
              "3      Proyecto de ley, en primer trámite constitucio...     Discusión general  \n",
              "4      Proyecto de ley, en primer trámite constitucio...  Discusión particular  \n",
              "\n",
              "[5 rows x 55 columns]"
            ],
            "text/html": [
              "\n",
              "  <div id=\"df-e6d0451e-9600-4c8e-90f6-cb63a629b632\">\n",
              "    <div class=\"colab-df-container\">\n",
              "      <div>\n",
              "<style scoped>\n",
              "    .dataframe tbody tr th:only-of-type {\n",
              "        vertical-align: middle;\n",
              "    }\n",
              "\n",
              "    .dataframe tbody tr th {\n",
              "        vertical-align: top;\n",
              "    }\n",
              "\n",
              "    .dataframe thead th {\n",
              "        text-align: right;\n",
              "    }\n",
              "</style>\n",
              "<table border=\"1\" class=\"dataframe\">\n",
              "  <thead>\n",
              "    <tr style=\"text-align: right;\">\n",
              "      <th>index</th>\n",
              "      <th>Latorre R., Juan Ignacio</th>\n",
              "      <th>Coloma C., Juan Antonio</th>\n",
              "      <th>García R., José</th>\n",
              "      <th>Bianchi C., Carlos</th>\n",
              "      <th>Navarro B., Alejandro</th>\n",
              "      <th>Allende B., Isabel</th>\n",
              "      <th>Lagos W., Ricardo</th>\n",
              "      <th>García Huidobro S., Alejandro</th>\n",
              "      <th>Guillier Á., Alejandro</th>\n",
              "      <th>Durana S., José Miguel</th>\n",
              "      <th>...</th>\n",
              "      <th>ABSTENCION</th>\n",
              "      <th>ETAPA</th>\n",
              "      <th>FECHA</th>\n",
              "      <th>NO</th>\n",
              "      <th>PAREO</th>\n",
              "      <th>QUORUM</th>\n",
              "      <th>SESION</th>\n",
              "      <th>SI</th>\n",
              "      <th>TEMA</th>\n",
              "      <th>TIPOVOTACION</th>\n",
              "    </tr>\n",
              "  </thead>\n",
              "  <tbody>\n",
              "    <tr>\n",
              "      <th>0</th>\n",
              "      <td>1</td>\n",
              "      <td>1</td>\n",
              "      <td>1</td>\n",
              "      <td>1</td>\n",
              "      <td>1</td>\n",
              "      <td>1</td>\n",
              "      <td>1</td>\n",
              "      <td>1</td>\n",
              "      <td>4</td>\n",
              "      <td>1</td>\n",
              "      <td>...</td>\n",
              "      <td>0</td>\n",
              "      <td>Primer trámite constitucional</td>\n",
              "      <td>2018-12-12 00:00:00</td>\n",
              "      <td>0</td>\n",
              "      <td>1</td>\n",
              "      <td>Mayoría simple</td>\n",
              "      <td>77/366</td>\n",
              "      <td>15</td>\n",
              "      <td>Proyecto de ley, en primer trámite constitucio...</td>\n",
              "      <td>Discusión general</td>\n",
              "    </tr>\n",
              "    <tr>\n",
              "      <th>1</th>\n",
              "      <td>2</td>\n",
              "      <td>0</td>\n",
              "      <td>1</td>\n",
              "      <td>1</td>\n",
              "      <td>1</td>\n",
              "      <td>1</td>\n",
              "      <td>0</td>\n",
              "      <td>0</td>\n",
              "      <td>1</td>\n",
              "      <td>1</td>\n",
              "      <td>...</td>\n",
              "      <td>0</td>\n",
              "      <td>Primer trámite constitucional</td>\n",
              "      <td>2020-06-02 00:00:00</td>\n",
              "      <td>1</td>\n",
              "      <td>0</td>\n",
              "      <td>0</td>\n",
              "      <td>31/368</td>\n",
              "      <td>37</td>\n",
              "      <td>Aprobación en particular del proyecto de ley q...</td>\n",
              "      <td>Discusión general</td>\n",
              "    </tr>\n",
              "    <tr>\n",
              "      <th>2</th>\n",
              "      <td>1</td>\n",
              "      <td>1</td>\n",
              "      <td>1</td>\n",
              "      <td>1</td>\n",
              "      <td>0</td>\n",
              "      <td>1</td>\n",
              "      <td>1</td>\n",
              "      <td>1</td>\n",
              "      <td>1</td>\n",
              "      <td>0</td>\n",
              "      <td>...</td>\n",
              "      <td>1</td>\n",
              "      <td>Primer trámite constitucional</td>\n",
              "      <td>2019-12-30 00:00:00</td>\n",
              "      <td>0</td>\n",
              "      <td>1</td>\n",
              "      <td>Cuatro séptimos Q.C.</td>\n",
              "      <td>89/367</td>\n",
              "      <td>27</td>\n",
              "      <td>Proyecto de ley, en primer trámite constitucio...</td>\n",
              "      <td>Discusión general</td>\n",
              "    </tr>\n",
              "    <tr>\n",
              "      <th>3</th>\n",
              "      <td>1</td>\n",
              "      <td>1</td>\n",
              "      <td>1</td>\n",
              "      <td>1</td>\n",
              "      <td>1</td>\n",
              "      <td>0</td>\n",
              "      <td>0</td>\n",
              "      <td>1</td>\n",
              "      <td>1</td>\n",
              "      <td>1</td>\n",
              "      <td>...</td>\n",
              "      <td>0</td>\n",
              "      <td>Primer trámite constitucional</td>\n",
              "      <td>2019-03-05 00:00:00</td>\n",
              "      <td>0</td>\n",
              "      <td>0</td>\n",
              "      <td>Mayoría simple</td>\n",
              "      <td>94/366</td>\n",
              "      <td>39</td>\n",
              "      <td>Proyecto de ley, en primer trámite constitucio...</td>\n",
              "      <td>Discusión general</td>\n",
              "    </tr>\n",
              "    <tr>\n",
              "      <th>4</th>\n",
              "      <td>1</td>\n",
              "      <td>1</td>\n",
              "      <td>1</td>\n",
              "      <td>1</td>\n",
              "      <td>1</td>\n",
              "      <td>1</td>\n",
              "      <td>1</td>\n",
              "      <td>1</td>\n",
              "      <td>1</td>\n",
              "      <td>1</td>\n",
              "      <td>...</td>\n",
              "      <td>0</td>\n",
              "      <td>Primer trámite constitucional</td>\n",
              "      <td>2020-01-29 00:00:00</td>\n",
              "      <td>0</td>\n",
              "      <td>0</td>\n",
              "      <td>Cuatro séptimos Q.C.</td>\n",
              "      <td>103/367</td>\n",
              "      <td>35</td>\n",
              "      <td>Proyecto de ley, en primer trámite constitucio...</td>\n",
              "      <td>Discusión particular</td>\n",
              "    </tr>\n",
              "  </tbody>\n",
              "</table>\n",
              "<p>5 rows × 55 columns</p>\n",
              "</div>\n",
              "      <button class=\"colab-df-convert\" onclick=\"convertToInteractive('df-e6d0451e-9600-4c8e-90f6-cb63a629b632')\"\n",
              "              title=\"Convert this dataframe to an interactive table.\"\n",
              "              style=\"display:none;\">\n",
              "        \n",
              "  <svg xmlns=\"http://www.w3.org/2000/svg\" height=\"24px\"viewBox=\"0 0 24 24\"\n",
              "       width=\"24px\">\n",
              "    <path d=\"M0 0h24v24H0V0z\" fill=\"none\"/>\n",
              "    <path d=\"M18.56 5.44l.94 2.06.94-2.06 2.06-.94-2.06-.94-.94-2.06-.94 2.06-2.06.94zm-11 1L8.5 8.5l.94-2.06 2.06-.94-2.06-.94L8.5 2.5l-.94 2.06-2.06.94zm10 10l.94 2.06.94-2.06 2.06-.94-2.06-.94-.94-2.06-.94 2.06-2.06.94z\"/><path d=\"M17.41 7.96l-1.37-1.37c-.4-.4-.92-.59-1.43-.59-.52 0-1.04.2-1.43.59L10.3 9.45l-7.72 7.72c-.78.78-.78 2.05 0 2.83L4 21.41c.39.39.9.59 1.41.59.51 0 1.02-.2 1.41-.59l7.78-7.78 2.81-2.81c.8-.78.8-2.07 0-2.86zM5.41 20L4 18.59l7.72-7.72 1.47 1.35L5.41 20z\"/>\n",
              "  </svg>\n",
              "      </button>\n",
              "      \n",
              "  <style>\n",
              "    .colab-df-container {\n",
              "      display:flex;\n",
              "      flex-wrap:wrap;\n",
              "      gap: 12px;\n",
              "    }\n",
              "\n",
              "    .colab-df-convert {\n",
              "      background-color: #E8F0FE;\n",
              "      border: none;\n",
              "      border-radius: 50%;\n",
              "      cursor: pointer;\n",
              "      display: none;\n",
              "      fill: #1967D2;\n",
              "      height: 32px;\n",
              "      padding: 0 0 0 0;\n",
              "      width: 32px;\n",
              "    }\n",
              "\n",
              "    .colab-df-convert:hover {\n",
              "      background-color: #E2EBFA;\n",
              "      box-shadow: 0px 1px 2px rgba(60, 64, 67, 0.3), 0px 1px 3px 1px rgba(60, 64, 67, 0.15);\n",
              "      fill: #174EA6;\n",
              "    }\n",
              "\n",
              "    [theme=dark] .colab-df-convert {\n",
              "      background-color: #3B4455;\n",
              "      fill: #D2E3FC;\n",
              "    }\n",
              "\n",
              "    [theme=dark] .colab-df-convert:hover {\n",
              "      background-color: #434B5C;\n",
              "      box-shadow: 0px 1px 3px 1px rgba(0, 0, 0, 0.15);\n",
              "      filter: drop-shadow(0px 1px 2px rgba(0, 0, 0, 0.3));\n",
              "      fill: #FFFFFF;\n",
              "    }\n",
              "  </style>\n",
              "\n",
              "      <script>\n",
              "        const buttonEl =\n",
              "          document.querySelector('#df-e6d0451e-9600-4c8e-90f6-cb63a629b632 button.colab-df-convert');\n",
              "        buttonEl.style.display =\n",
              "          google.colab.kernel.accessAllowed ? 'block' : 'none';\n",
              "\n",
              "        async function convertToInteractive(key) {\n",
              "          const element = document.querySelector('#df-e6d0451e-9600-4c8e-90f6-cb63a629b632');\n",
              "          const dataTable =\n",
              "            await google.colab.kernel.invokeFunction('convertToInteractive',\n",
              "                                                     [key], {});\n",
              "          if (!dataTable) return;\n",
              "\n",
              "          const docLinkHtml = 'Like what you see? Visit the ' +\n",
              "            '<a target=\"_blank\" href=https://colab.research.google.com/notebooks/data_table.ipynb>data table notebook</a>'\n",
              "            + ' to learn more about interactive tables.';\n",
              "          element.innerHTML = '';\n",
              "          dataTable['output_type'] = 'display_data';\n",
              "          await google.colab.output.renderOutput(dataTable, element);\n",
              "          const docLink = document.createElement('div');\n",
              "          docLink.innerHTML = docLinkHtml;\n",
              "          element.appendChild(docLink);\n",
              "        }\n",
              "      </script>\n",
              "    </div>\n",
              "  </div>\n",
              "  "
            ]
          },
          "metadata": {},
          "execution_count": 14
        }
      ]
    },
    {
      "cell_type": "markdown",
      "source": [
        "Ahora veamos algunas estadísticas de nuestros datos"
      ],
      "metadata": {
        "id": "4aVM0zEZ_8Hp"
      }
    },
    {
      "cell_type": "code",
      "source": [
        "dst.describe()"
      ],
      "metadata": {
        "id": "LWDrE9jH_9cD",
        "colab": {
          "base_uri": "https://localhost:8080/",
          "height": 390
        },
        "outputId": "c2cb938e-106b-486c-81a1-4d474ef3437f"
      },
      "execution_count": 15,
      "outputs": [
        {
          "output_type": "execute_result",
          "data": {
            "text/plain": [
              "index   Latorre R., Juan Ignacio  Coloma C., Juan Antonio  García R., José  \\\n",
              "count                        424                      424              424   \n",
              "unique                         4                        5                5   \n",
              "top                            1                        1                1   \n",
              "freq                         310                      280              290   \n",
              "\n",
              "index   Bianchi C., Carlos  Navarro B., Alejandro  Allende B., Isabel  \\\n",
              "count                  424                    424                 424   \n",
              "unique                   4                      4                   4   \n",
              "top                      1                      1                   1   \n",
              "freq                   270                    223                 243   \n",
              "\n",
              "index   Lagos W., Ricardo  García Huidobro S., Alejandro  \\\n",
              "count                 424                            424   \n",
              "unique                  4                              5   \n",
              "top                     1                              1   \n",
              "freq                  243                            286   \n",
              "\n",
              "index   Guillier Á., Alejandro  Durana S., José Miguel  ...  ABSTENCION  \\\n",
              "count                      424                     424  ...         424   \n",
              "unique                       5                       5  ...          12   \n",
              "top                          1                       1  ...           0   \n",
              "freq                       255                     333  ...         270   \n",
              "\n",
              "index                            ETAPA                FECHA   NO  PAREO  \\\n",
              "count                              424                  424  424    424   \n",
              "unique                               7                  177   30      4   \n",
              "top     Segundo trámite constitucional  2018-08-21 00:00:00    0      0   \n",
              "freq                               224                    9  308    353   \n",
              "\n",
              "index           QUORUM  SESION   SI  \\\n",
              "count              424     424  424   \n",
              "unique               6     184   35   \n",
              "top     Mayoría simple  41/366   35   \n",
              "freq               288       9   28   \n",
              "\n",
              "index                                                TEMA       TIPOVOTACION  \n",
              "count                                                 424                424  \n",
              "unique                                                423                  5  \n",
              "top     Proyecto de ley, en segundo trámite constituci...  Discusión general  \n",
              "freq                                                    2                262  \n",
              "\n",
              "[4 rows x 55 columns]"
            ],
            "text/html": [
              "\n",
              "  <div id=\"df-89b239f5-912c-4ea7-bad6-790a06e5e187\">\n",
              "    <div class=\"colab-df-container\">\n",
              "      <div>\n",
              "<style scoped>\n",
              "    .dataframe tbody tr th:only-of-type {\n",
              "        vertical-align: middle;\n",
              "    }\n",
              "\n",
              "    .dataframe tbody tr th {\n",
              "        vertical-align: top;\n",
              "    }\n",
              "\n",
              "    .dataframe thead th {\n",
              "        text-align: right;\n",
              "    }\n",
              "</style>\n",
              "<table border=\"1\" class=\"dataframe\">\n",
              "  <thead>\n",
              "    <tr style=\"text-align: right;\">\n",
              "      <th>index</th>\n",
              "      <th>Latorre R., Juan Ignacio</th>\n",
              "      <th>Coloma C., Juan Antonio</th>\n",
              "      <th>García R., José</th>\n",
              "      <th>Bianchi C., Carlos</th>\n",
              "      <th>Navarro B., Alejandro</th>\n",
              "      <th>Allende B., Isabel</th>\n",
              "      <th>Lagos W., Ricardo</th>\n",
              "      <th>García Huidobro S., Alejandro</th>\n",
              "      <th>Guillier Á., Alejandro</th>\n",
              "      <th>Durana S., José Miguel</th>\n",
              "      <th>...</th>\n",
              "      <th>ABSTENCION</th>\n",
              "      <th>ETAPA</th>\n",
              "      <th>FECHA</th>\n",
              "      <th>NO</th>\n",
              "      <th>PAREO</th>\n",
              "      <th>QUORUM</th>\n",
              "      <th>SESION</th>\n",
              "      <th>SI</th>\n",
              "      <th>TEMA</th>\n",
              "      <th>TIPOVOTACION</th>\n",
              "    </tr>\n",
              "  </thead>\n",
              "  <tbody>\n",
              "    <tr>\n",
              "      <th>count</th>\n",
              "      <td>424</td>\n",
              "      <td>424</td>\n",
              "      <td>424</td>\n",
              "      <td>424</td>\n",
              "      <td>424</td>\n",
              "      <td>424</td>\n",
              "      <td>424</td>\n",
              "      <td>424</td>\n",
              "      <td>424</td>\n",
              "      <td>424</td>\n",
              "      <td>...</td>\n",
              "      <td>424</td>\n",
              "      <td>424</td>\n",
              "      <td>424</td>\n",
              "      <td>424</td>\n",
              "      <td>424</td>\n",
              "      <td>424</td>\n",
              "      <td>424</td>\n",
              "      <td>424</td>\n",
              "      <td>424</td>\n",
              "      <td>424</td>\n",
              "    </tr>\n",
              "    <tr>\n",
              "      <th>unique</th>\n",
              "      <td>4</td>\n",
              "      <td>5</td>\n",
              "      <td>5</td>\n",
              "      <td>4</td>\n",
              "      <td>4</td>\n",
              "      <td>4</td>\n",
              "      <td>4</td>\n",
              "      <td>5</td>\n",
              "      <td>5</td>\n",
              "      <td>5</td>\n",
              "      <td>...</td>\n",
              "      <td>12</td>\n",
              "      <td>7</td>\n",
              "      <td>177</td>\n",
              "      <td>30</td>\n",
              "      <td>4</td>\n",
              "      <td>6</td>\n",
              "      <td>184</td>\n",
              "      <td>35</td>\n",
              "      <td>423</td>\n",
              "      <td>5</td>\n",
              "    </tr>\n",
              "    <tr>\n",
              "      <th>top</th>\n",
              "      <td>1</td>\n",
              "      <td>1</td>\n",
              "      <td>1</td>\n",
              "      <td>1</td>\n",
              "      <td>1</td>\n",
              "      <td>1</td>\n",
              "      <td>1</td>\n",
              "      <td>1</td>\n",
              "      <td>1</td>\n",
              "      <td>1</td>\n",
              "      <td>...</td>\n",
              "      <td>0</td>\n",
              "      <td>Segundo trámite constitucional</td>\n",
              "      <td>2018-08-21 00:00:00</td>\n",
              "      <td>0</td>\n",
              "      <td>0</td>\n",
              "      <td>Mayoría simple</td>\n",
              "      <td>41/366</td>\n",
              "      <td>35</td>\n",
              "      <td>Proyecto de ley, en segundo trámite constituci...</td>\n",
              "      <td>Discusión general</td>\n",
              "    </tr>\n",
              "    <tr>\n",
              "      <th>freq</th>\n",
              "      <td>310</td>\n",
              "      <td>280</td>\n",
              "      <td>290</td>\n",
              "      <td>270</td>\n",
              "      <td>223</td>\n",
              "      <td>243</td>\n",
              "      <td>243</td>\n",
              "      <td>286</td>\n",
              "      <td>255</td>\n",
              "      <td>333</td>\n",
              "      <td>...</td>\n",
              "      <td>270</td>\n",
              "      <td>224</td>\n",
              "      <td>9</td>\n",
              "      <td>308</td>\n",
              "      <td>353</td>\n",
              "      <td>288</td>\n",
              "      <td>9</td>\n",
              "      <td>28</td>\n",
              "      <td>2</td>\n",
              "      <td>262</td>\n",
              "    </tr>\n",
              "  </tbody>\n",
              "</table>\n",
              "<p>4 rows × 55 columns</p>\n",
              "</div>\n",
              "      <button class=\"colab-df-convert\" onclick=\"convertToInteractive('df-89b239f5-912c-4ea7-bad6-790a06e5e187')\"\n",
              "              title=\"Convert this dataframe to an interactive table.\"\n",
              "              style=\"display:none;\">\n",
              "        \n",
              "  <svg xmlns=\"http://www.w3.org/2000/svg\" height=\"24px\"viewBox=\"0 0 24 24\"\n",
              "       width=\"24px\">\n",
              "    <path d=\"M0 0h24v24H0V0z\" fill=\"none\"/>\n",
              "    <path d=\"M18.56 5.44l.94 2.06.94-2.06 2.06-.94-2.06-.94-.94-2.06-.94 2.06-2.06.94zm-11 1L8.5 8.5l.94-2.06 2.06-.94-2.06-.94L8.5 2.5l-.94 2.06-2.06.94zm10 10l.94 2.06.94-2.06 2.06-.94-2.06-.94-.94-2.06-.94 2.06-2.06.94z\"/><path d=\"M17.41 7.96l-1.37-1.37c-.4-.4-.92-.59-1.43-.59-.52 0-1.04.2-1.43.59L10.3 9.45l-7.72 7.72c-.78.78-.78 2.05 0 2.83L4 21.41c.39.39.9.59 1.41.59.51 0 1.02-.2 1.41-.59l7.78-7.78 2.81-2.81c.8-.78.8-2.07 0-2.86zM5.41 20L4 18.59l7.72-7.72 1.47 1.35L5.41 20z\"/>\n",
              "  </svg>\n",
              "      </button>\n",
              "      \n",
              "  <style>\n",
              "    .colab-df-container {\n",
              "      display:flex;\n",
              "      flex-wrap:wrap;\n",
              "      gap: 12px;\n",
              "    }\n",
              "\n",
              "    .colab-df-convert {\n",
              "      background-color: #E8F0FE;\n",
              "      border: none;\n",
              "      border-radius: 50%;\n",
              "      cursor: pointer;\n",
              "      display: none;\n",
              "      fill: #1967D2;\n",
              "      height: 32px;\n",
              "      padding: 0 0 0 0;\n",
              "      width: 32px;\n",
              "    }\n",
              "\n",
              "    .colab-df-convert:hover {\n",
              "      background-color: #E2EBFA;\n",
              "      box-shadow: 0px 1px 2px rgba(60, 64, 67, 0.3), 0px 1px 3px 1px rgba(60, 64, 67, 0.15);\n",
              "      fill: #174EA6;\n",
              "    }\n",
              "\n",
              "    [theme=dark] .colab-df-convert {\n",
              "      background-color: #3B4455;\n",
              "      fill: #D2E3FC;\n",
              "    }\n",
              "\n",
              "    [theme=dark] .colab-df-convert:hover {\n",
              "      background-color: #434B5C;\n",
              "      box-shadow: 0px 1px 3px 1px rgba(0, 0, 0, 0.15);\n",
              "      filter: drop-shadow(0px 1px 2px rgba(0, 0, 0, 0.3));\n",
              "      fill: #FFFFFF;\n",
              "    }\n",
              "  </style>\n",
              "\n",
              "      <script>\n",
              "        const buttonEl =\n",
              "          document.querySelector('#df-89b239f5-912c-4ea7-bad6-790a06e5e187 button.colab-df-convert');\n",
              "        buttonEl.style.display =\n",
              "          google.colab.kernel.accessAllowed ? 'block' : 'none';\n",
              "\n",
              "        async function convertToInteractive(key) {\n",
              "          const element = document.querySelector('#df-89b239f5-912c-4ea7-bad6-790a06e5e187');\n",
              "          const dataTable =\n",
              "            await google.colab.kernel.invokeFunction('convertToInteractive',\n",
              "                                                     [key], {});\n",
              "          if (!dataTable) return;\n",
              "\n",
              "          const docLinkHtml = 'Like what you see? Visit the ' +\n",
              "            '<a target=\"_blank\" href=https://colab.research.google.com/notebooks/data_table.ipynb>data table notebook</a>'\n",
              "            + ' to learn more about interactive tables.';\n",
              "          element.innerHTML = '';\n",
              "          dataTable['output_type'] = 'display_data';\n",
              "          await google.colab.output.renderOutput(dataTable, element);\n",
              "          const docLink = document.createElement('div');\n",
              "          docLink.innerHTML = docLinkHtml;\n",
              "          element.appendChild(docLink);\n",
              "        }\n",
              "      </script>\n",
              "    </div>\n",
              "  </div>\n",
              "  "
            ]
          },
          "metadata": {},
          "execution_count": 15
        }
      ]
    },
    {
      "cell_type": "markdown",
      "source": [
        "# Graficos"
      ],
      "metadata": {
        "id": "HPkEwhqJCT9B"
      }
    },
    {
      "cell_type": "code",
      "source": [
        "df_tipoVotacion = dst.groupby('TIPOVOTACION')['SI'].count()\n",
        "lblTiposVotacion = 'No Tipificado','Discusión general', 'Discusión informe de Comisión Mixta','Discusión particular','Discusión única'\n",
        "GrfPie1 = plt.pie(df_tipoVotacion, labels=lblTiposVotacion, autopct='%1.1f%%', shadow=True, startangle=140)"
      ],
      "metadata": {
        "id": "ev92gNTNCXqZ",
        "colab": {
          "base_uri": "https://localhost:8080/",
          "height": 248
        },
        "outputId": "92dbaa61-3fce-440e-d749-c51506728e7b"
      },
      "execution_count": 16,
      "outputs": [
        {
          "output_type": "display_data",
          "data": {
            "text/plain": [
              "<Figure size 432x288 with 1 Axes>"
            ],
            "image/png": "[encoded data removed]"
          },
          "metadata": {}
        }
      ]
    },
    {
      "cell_type": "code",
      "source": [
        "#Distribucion sobre el 80% de la participacion de senadores segun tipos de votación\n",
        "df_tipoVotacion2 = dst[dst['SI'].astype(np.int64) > 36].groupby('TIPOVOTACION')['SI'].count()\n",
        "lblTiposVotacion2 = 'Discusión general', 'Discusión informe de Comisión Mixta','Discusión particular','Discusión única'\n",
        "plt.title('Distribucion sobre el 80% de la participacion de senadores segun tipos de votación')\n",
        "GrfPie2 = plt.pie(df_tipoVotacion2, labels=lblTiposVotacion2, autopct='%1.1f%%', shadow=True, startangle=140)"
      ],
      "metadata": {
        "id": "qlp_IfydCctp",
        "colab": {
          "base_uri": "https://localhost:8080/",
          "height": 264
        },
        "outputId": "ea56dfc9-ca4c-40a7-b8aa-5235c01011db"
      },
      "execution_count": 17,
      "outputs": [
        {
          "output_type": "display_data",
          "data": {
            "text/plain": [
              "<Figure size 432x288 with 1 Axes>"
            ],
            "image/png": "[encoded data removed]"
          },
          "metadata": {}
        }
      ]
    },
    {
      "cell_type": "code",
      "source": [
        "#Votacion General Senador Latorre R., Juan Ignacio\n",
        "df_null_sen_JILR = pd.DataFrame(dst[dst['Latorre R., Juan Ignacio'].astype(np.int64) == 0], columns=['Latorre R., Juan Ignacio']).count()\n",
        "df_si_sen_JILR = pd.DataFrame(dst[dst['Latorre R., Juan Ignacio'].astype(np.int64) == 1], columns=['Latorre R., Juan Ignacio']).count()\n",
        "df_no_sen_JILR = pd.DataFrame(dst[dst['Latorre R., Juan Ignacio'].astype(np.int64) == 2], columns=['Latorre R., Juan Ignacio']).count()\n",
        "df_abste_sen_JILR = pd.DataFrame(dst[dst['Latorre R., Juan Ignacio'].astype(np.int64) == 3], columns=['Latorre R., Juan Ignacio']).count()\n",
        "df_pareo_sen_JILR = pd.DataFrame(dst[dst['Latorre R., Juan Ignacio'].astype(np.int64) == 4], columns=['Latorre R., Juan Ignacio']).count()\n",
        "\n",
        "lbl_JILR = 'NULO', 'SI','NO','ABSTENCION', 'PAREO'\n",
        "df_vota_JILR = pd.concat([df_null_sen_JILR, df_si_sen_JILR, df_no_sen_JILR, df_abste_sen_JILR, df_pareo_sen_JILR], axis=0)\n",
        "plt.title('Votacion total de proyectos de ley senador Latorre R., Juan Ignacio')\n",
        "GrfPie_JILR = plt.pie(df_vota_JILR, labels=lbl_JILR, autopct='%1.1f%%', shadow=True, startangle=140)"
      ],
      "metadata": {
        "id": "KCLupZZ9CuC5",
        "colab": {
          "base_uri": "https://localhost:8080/",
          "height": 264
        },
        "outputId": "b6ee3c84-e1db-4fa7-e9fe-71f243618a7e"
      },
      "execution_count": 18,
      "outputs": [
        {
          "output_type": "display_data",
          "data": {
            "text/plain": [
              "<Figure size 432x288 with 1 Axes>"
            ],
            "image/png": "[encoded data removed]"
          },
          "metadata": {}
        }
      ]
    },
    {
      "cell_type": "code",
      "source": [
        "#Votacion General Senador Sabat F., Marcela\n",
        "df_null_sen_MSF = pd.DataFrame(dst[dst['Sabat F., Marcela'].astype(np.int64) == 0], columns=['Sabat F., Marcela']).count()\n",
        "df_si_sen_MSF = pd.DataFrame(dst[dst['Sabat F., Marcela'].astype(np.int64) == 1], columns=['Sabat F., Marcela']).count()\n",
        "df_no_sen_MSF = pd.DataFrame(dst[dst['Sabat F., Marcela'].astype(np.int64) == 2], columns=['Sabat F., Marcela']).count()\n",
        "df_abste_sen_MSF = pd.DataFrame(dst[dst['Sabat F., Marcela'].astype(np.int64) == 3], columns=['Sabat F., Marcela']).count()\n",
        "df_pareo_sen_MSF = pd.DataFrame(dst[dst['Sabat F., Marcela'].astype(np.int64) == 4], columns=['Sabat F., Marcela']).count()\n",
        "\n",
        "lbl_MSF = 'NULO', 'SI','NO','ABSTENCION', 'PAREO'\n",
        "df_vota_MSF = pd.concat([df_null_sen_MSF, df_si_sen_MSF, df_no_sen_MSF, df_abste_sen_MSF, df_pareo_sen_MSF], axis=0)\n",
        "plt.title('Votacion total de proyectos de ley senadora Sabat F., Marcela')\n",
        "GrfPie_MSF = plt.pie(df_vota_MSF, labels=lbl_MSF, autopct='%1.1f%%', shadow=True, startangle=140)"
      ],
      "metadata": {
        "id": "ehm9irFkC5SO",
        "colab": {
          "base_uri": "https://localhost:8080/",
          "height": 264
        },
        "outputId": "8b0a8c1a-be19-4930-a13e-dbd5c1edfc77"
      },
      "execution_count": 19,
      "outputs": [
        {
          "output_type": "display_data",
          "data": {
            "text/plain": [
              "<Figure size 432x288 with 1 Axes>"
            ],
            "image/png": "[encoded data removed]"
          },
          "metadata": {}
        }
      ]
    },
    {
      "cell_type": "code",
      "source": [
        "df_null = []\n",
        "df_si = []\n",
        "df_no = []\n",
        "df_abstencion = []\n",
        "df_pareo = []\n",
        "\n",
        "for fila in dst:\n",
        "  if fila == 'ABSTENCION':\n",
        "    break\n",
        "  else:\n",
        "    df_null.append(pd.DataFrame(dst[dst[fila].astype(np.int64) == 0], columns=[fila]).count())\n",
        "    df_si.append(pd.DataFrame(dst[dst[fila].astype(np.int64) == 1], columns=[fila]).count())\n",
        "    df_no.append(pd.DataFrame(dst[dst[fila].astype(np.int64) == 2], columns=[fila]).count())\n",
        "    df_abstencion.append(pd.DataFrame(dst[dst[fila].astype(np.int64) == 3], columns=[fila]).count())\n",
        "    df_pareo.append(pd.DataFrame(dst[dst[fila].astype(np.int64) == 4], columns=[fila]).count())\n",
        "\n",
        "df_null = pd.DataFrame(pd.concat(df_null))\n",
        "df_si = pd.DataFrame(pd.concat(df_si))\n",
        "df_no = pd.DataFrame(pd.concat(df_no))\n",
        "df_abstencion = pd.DataFrame(pd.concat(df_abstencion))\n",
        "df_pareo = pd.DataFrame(pd.concat(df_pareo))\n",
        "\n",
        "dffinal = pd.concat([df_null, df_si, df_no, df_abstencion, df_pareo], axis=1)\n",
        "dffinal = dffinal.reset_index()\n",
        "dffinal.columns = ['SENADORES', 'NULO', 'SI', 'NO', 'ABSTENCION', 'PAREO']"
      ],
      "metadata": {
        "id": "Kr0TGjUFM9FU"
      },
      "execution_count": 20,
      "outputs": []
    },
    {
      "cell_type": "code",
      "source": [
        "dffinal.drop('SENADORES',axis=1).hist()\n",
        "#(['clase'],1).hist()\n",
        "plt.show()"
      ],
      "metadata": {
        "id": "KJUE_BGaJaLd",
        "colab": {
          "base_uri": "https://localhost:8080/",
          "height": 281
        },
        "outputId": "e31a55cf-9530-4470-c7a7-0579283d9df6"
      },
      "execution_count": 21,
      "outputs": [
        {
          "output_type": "display_data",
          "data": {
            "text/plain": [
              "<Figure size 432x288 with 6 Axes>"
            ],
            "image/png": "[encoded data removed]"
          },
          "metadata": {
            "needs_background": "light"
          }
        }
      ]
    },
    {
      "cell_type": "code",
      "source": [
        "sns.pairplot(dffinal.dropna(), hue='SENADORES',height=5,vars=['NULO', 'SI', 'NO', 'ABSTENCION', 'PAREO'],kind='reg')"
      ],
      "metadata": {
        "id": "Gq_B97V0KYWm",
        "colab": {
          "base_uri": "https://localhost:8080/",
          "height": 876
        },
        "outputId": "dad03827-af63-4f92-c6a6-63b647be9161"
      },
      "execution_count": 22,
      "outputs": [
        {
          "output_type": "execute_result",
          "data": {
            "text/plain": [
              "<seaborn.axisgrid.PairGrid at 0x7f09bb2bfc50>"
            ]
          },
          "metadata": {},
          "execution_count": 22
        },
        {
          "output_type": "display_data",
          "data": {
            "text/plain": [
              "<Figure size 1996.38x1800 with 30 Axes>"
            ],
            "image/png": "[encoded data removed]"
          },
          "metadata": {
            "needs_background": "light"
          }
        }
      ]
    },
    {
      "cell_type": "markdown",
      "source": [
        "# Regresion Logistica"
      ],
      "metadata": {
        "id": "SiR_hQc8emBb"
      }
    },
    {
      "cell_type": "code",
      "source": [
        "dfsen = pd.DataFrame(dffinal.SENADORES)\n",
        "dfsen"
      ],
      "metadata": {
        "id": "5m1XQaxZWzqB",
        "colab": {
          "base_uri": "https://localhost:8080/",
          "height": 1000
        },
        "outputId": "51441d73-b8bc-4b0c-ca48-d97245bd9ecf"
      },
      "execution_count": 23,
      "outputs": [
        {
          "output_type": "execute_result",
          "data": {
            "text/plain": [
              "                          SENADORES\n",
              "0          Latorre R., Juan Ignacio\n",
              "1           Coloma C., Juan Antonio\n",
              "2                   García R., José\n",
              "3                Bianchi C., Carlos\n",
              "4             Navarro B., Alejandro\n",
              "5                Allende B., Isabel\n",
              "6                 Lagos W., Ricardo\n",
              "7     García Huidobro S., Alejandro\n",
              "8            Guillier Á., Alejandro\n",
              "9            Durana S., José Miguel\n",
              "10               Prohens E., Rafael\n",
              "11                 Pugh O., Kenneth\n",
              "12              Elizalde S., Alvaro\n",
              "13              Galilea V., Rodrigo\n",
              "14       Huenchumilla J., Francisco\n",
              "15               Sandoval P., David\n",
              "16                Pizarro S., Jorge\n",
              "17                Girardi L., Guido\n",
              "18          Letelier M., Juan Pablo\n",
              "19                 Pérez V., Víctor\n",
              "20            Chahuán C., Francisco\n",
              "21               Quintana L., Jaime\n",
              "22                Rincón G., Ximena\n",
              "23                 Von Baer J., Ena\n",
              "24                  Araya G., Pedro\n",
              "25  Van Rysselberghe H., Jacqueline\n",
              "26                Goic B., Carolina\n",
              "27                Harboe B., Felipe\n",
              "28           De Urresti L., Alfonso\n",
              "29       Quinteros L., Rabindranath\n",
              "30                 Moreira B., Iván\n",
              "31                Muñoz D., Adriana\n",
              "32         Ossandón I., Manuel José\n",
              "33          Insulza S., José Miguel\n",
              "34       Ebensperger O., Luz Eliana\n",
              "35                  Soria Q., Jorge\n",
              "36               Provoste C., Yasna\n",
              "37                  Castro P., Juan\n",
              "38        Aravena A., Carmen Gloria\n",
              "39                  Kast S., Felipe\n",
              "40               Órdenes N., Ximena\n",
              "41              Allamand Z., Andrés\n",
              "42                Montes C., Carlos\n",
              "43             Alvarado A., Claudio\n",
              "44                Sabat F., Marcela"
            ],
            "text/html": [
              "\n",
              "  <div id=\"df-e248c490-75c1-42ef-93de-64e336b5e9e3\">\n",
              "    <div class=\"colab-df-container\">\n",
              "      <div>\n",
              "<style scoped>\n",
              "    .dataframe tbody tr th:only-of-type {\n",
              "        vertical-align: middle;\n",
              "    }\n",
              "\n",
              "    .dataframe tbody tr th {\n",
              "        vertical-align: top;\n",
              "    }\n",
              "\n",
              "    .dataframe thead th {\n",
              "        text-align: right;\n",
              "    }\n",
              "</style>\n",
              "<table border=\"1\" class=\"dataframe\">\n",
              "  <thead>\n",
              "    <tr style=\"text-align: right;\">\n",
              "      <th></th>\n",
              "      <th>SENADORES</th>\n",
              "    </tr>\n",
              "  </thead>\n",
              "  <tbody>\n",
              "    <tr>\n",
              "      <th>0</th>\n",
              "      <td>Latorre R., Juan Ignacio</td>\n",
              "    </tr>\n",
              "    <tr>\n",
              "      <th>1</th>\n",
              "      <td>Coloma C., Juan Antonio</td>\n",
              "    </tr>\n",
              "    <tr>\n",
              "      <th>2</th>\n",
              "      <td>García R., José</td>\n",
              "    </tr>\n",
              "    <tr>\n",
              "      <th>3</th>\n",
              "      <td>Bianchi C., Carlos</td>\n",
              "    </tr>\n",
              "    <tr>\n",
              "      <th>4</th>\n",
              "      <td>Navarro B., Alejandro</td>\n",
              "    </tr>\n",
              "    <tr>\n",
              "      <th>5</th>\n",
              "      <td>Allende B., Isabel</td>\n",
              "    </tr>\n",
              "    <tr>\n",
              "      <th>6</th>\n",
              "      <td>Lagos W., Ricardo</td>\n",
              "    </tr>\n",
              "    <tr>\n",
              "      <th>7</th>\n",
              "      <td>García Huidobro S., Alejandro</td>\n",
              "    </tr>\n",
              "    <tr>\n",
              "      <th>8</th>\n",
              "      <td>Guillier Á., Alejandro</td>\n",
              "    </tr>\n",
              "    <tr>\n",
              "      <th>9</th>\n",
              "      <td>Durana S., José Miguel</td>\n",
              "    </tr>\n",
              "    <tr>\n",
              "      <th>10</th>\n",
              "      <td>Prohens E., Rafael</td>\n",
              "    </tr>\n",
              "    <tr>\n",
              "      <th>11</th>\n",
              "      <td>Pugh O., Kenneth</td>\n",
              "    </tr>\n",
              "    <tr>\n",
              "      <th>12</th>\n",
              "      <td>Elizalde S., Alvaro</td>\n",
              "    </tr>\n",
              "    <tr>\n",
              "      <th>13</th>\n",
              "      <td>Galilea V., Rodrigo</td>\n",
              "    </tr>\n",
              "    <tr>\n",
              "      <th>14</th>\n",
              "      <td>Huenchumilla J., Francisco</td>\n",
              "    </tr>\n",
              "    <tr>\n",
              "      <th>15</th>\n",
              "      <td>Sandoval P., David</td>\n",
              "    </tr>\n",
              "    <tr>\n",
              "      <th>16</th>\n",
              "      <td>Pizarro S., Jorge</td>\n",
              "    </tr>\n",
              "    <tr>\n",
              "      <th>17</th>\n",
              "      <td>Girardi L., Guido</td>\n",
              "    </tr>\n",
              "    <tr>\n",
              "      <th>18</th>\n",
              "      <td>Letelier M., Juan Pablo</td>\n",
              "    </tr>\n",
              "    <tr>\n",
              "      <th>19</th>\n",
              "      <td>Pérez V., Víctor</td>\n",
              "    </tr>\n",
              "    <tr>\n",
              "      <th>20</th>\n",
              "      <td>Chahuán C., Francisco</td>\n",
              "    </tr>\n",
              "    <tr>\n",
              "      <th>21</th>\n",
              "      <td>Quintana L., Jaime</td>\n",
              "    </tr>\n",
              "    <tr>\n",
              "      <th>22</th>\n",
              "      <td>Rincón G., Ximena</td>\n",
              "    </tr>\n",
              "    <tr>\n",
              "      <th>23</th>\n",
              "      <td>Von Baer J., Ena</td>\n",
              "    </tr>\n",
              "    <tr>\n",
              "      <th>24</th>\n",
              "      <td>Araya G., Pedro</td>\n",
              "    </tr>\n",
              "    <tr>\n",
              "      <th>25</th>\n",
              "      <td>Van Rysselberghe H., Jacqueline</td>\n",
              "    </tr>\n",
              "    <tr>\n",
              "      <th>26</th>\n",
              "      <td>Goic B., Carolina</td>\n",
              "    </tr>\n",
              "    <tr>\n",
              "      <th>27</th>\n",
              "      <td>Harboe B., Felipe</td>\n",
              "    </tr>\n",
              "    <tr>\n",
              "      <th>28</th>\n",
              "      <td>De Urresti L., Alfonso</td>\n",
              "    </tr>\n",
              "    <tr>\n",
              "      <th>29</th>\n",
              "      <td>Quinteros L., Rabindranath</td>\n",
              "    </tr>\n",
              "    <tr>\n",
              "      <th>30</th>\n",
              "      <td>Moreira B., Iván</td>\n",
              "    </tr>\n",
              "    <tr>\n",
              "      <th>31</th>\n",
              "      <td>Muñoz D., Adriana</td>\n",
              "    </tr>\n",
              "    <tr>\n",
              "      <th>32</th>\n",
              "      <td>Ossandón I., Manuel José</td>\n",
              "    </tr>\n",
              "    <tr>\n",
              "      <th>33</th>\n",
              "      <td>Insulza S., José Miguel</td>\n",
              "    </tr>\n",
              "    <tr>\n",
              "      <th>34</th>\n",
              "      <td>Ebensperger O., Luz Eliana</td>\n",
              "    </tr>\n",
              "    <tr>\n",
              "      <th>35</th>\n",
              "      <td>Soria Q., Jorge</td>\n",
              "    </tr>\n",
              "    <tr>\n",
              "      <th>36</th>\n",
              "      <td>Provoste C., Yasna</td>\n",
              "    </tr>\n",
              "    <tr>\n",
              "      <th>37</th>\n",
              "      <td>Castro P., Juan</td>\n",
              "    </tr>\n",
              "    <tr>\n",
              "      <th>38</th>\n",
              "      <td>Aravena A., Carmen Gloria</td>\n",
              "    </tr>\n",
              "    <tr>\n",
              "      <th>39</th>\n",
              "      <td>Kast S., Felipe</td>\n",
              "    </tr>\n",
              "    <tr>\n",
              "      <th>40</th>\n",
              "      <td>Órdenes N., Ximena</td>\n",
              "    </tr>\n",
              "    <tr>\n",
              "      <th>41</th>\n",
              "      <td>Allamand Z., Andrés</td>\n",
              "    </tr>\n",
              "    <tr>\n",
              "      <th>42</th>\n",
              "      <td>Montes C., Carlos</td>\n",
              "    </tr>\n",
              "    <tr>\n",
              "      <th>43</th>\n",
              "      <td>Alvarado A., Claudio</td>\n",
              "    </tr>\n",
              "    <tr>\n",
              "      <th>44</th>\n",
              "      <td>Sabat F., Marcela</td>\n",
              "    </tr>\n",
              "  </tbody>\n",
              "</table>\n",
              "</div>\n",
              "      <button class=\"colab-df-convert\" onclick=\"convertToInteractive('df-e248c490-75c1-42ef-93de-64e336b5e9e3')\"\n",
              "              title=\"Convert this dataframe to an interactive table.\"\n",
              "              style=\"display:none;\">\n",
              "        \n",
              "  <svg xmlns=\"http://www.w3.org/2000/svg\" height=\"24px\"viewBox=\"0 0 24 24\"\n",
              "       width=\"24px\">\n",
              "    <path d=\"M0 0h24v24H0V0z\" fill=\"none\"/>\n",
              "    <path d=\"M18.56 5.44l.94 2.06.94-2.06 2.06-.94-2.06-.94-.94-2.06-.94 2.06-2.06.94zm-11 1L8.5 8.5l.94-2.06 2.06-.94-2.06-.94L8.5 2.5l-.94 2.06-2.06.94zm10 10l.94 2.06.94-2.06 2.06-.94-2.06-.94-.94-2.06-.94 2.06-2.06.94z\"/><path d=\"M17.41 7.96l-1.37-1.37c-.4-.4-.92-.59-1.43-.59-.52 0-1.04.2-1.43.59L10.3 9.45l-7.72 7.72c-.78.78-.78 2.05 0 2.83L4 21.41c.39.39.9.59 1.41.59.51 0 1.02-.2 1.41-.59l7.78-7.78 2.81-2.81c.8-.78.8-2.07 0-2.86zM5.41 20L4 18.59l7.72-7.72 1.47 1.35L5.41 20z\"/>\n",
              "  </svg>\n",
              "      </button>\n",
              "      \n",
              "  <style>\n",
              "    .colab-df-container {\n",
              "      display:flex;\n",
              "      flex-wrap:wrap;\n",
              "      gap: 12px;\n",
              "    }\n",
              "\n",
              "    .colab-df-convert {\n",
              "      background-color: #E8F0FE;\n",
              "      border: none;\n",
              "      border-radius: 50%;\n",
              "      cursor: pointer;\n",
              "      display: none;\n",
              "      fill: #1967D2;\n",
              "      height: 32px;\n",
              "      padding: 0 0 0 0;\n",
              "      width: 32px;\n",
              "    }\n",
              "\n",
              "    .colab-df-convert:hover {\n",
              "      background-color: #E2EBFA;\n",
              "      box-shadow: 0px 1px 2px rgba(60, 64, 67, 0.3), 0px 1px 3px 1px rgba(60, 64, 67, 0.15);\n",
              "      fill: #174EA6;\n",
              "    }\n",
              "\n",
              "    [theme=dark] .colab-df-convert {\n",
              "      background-color: #3B4455;\n",
              "      fill: #D2E3FC;\n",
              "    }\n",
              "\n",
              "    [theme=dark] .colab-df-convert:hover {\n",
              "      background-color: #434B5C;\n",
              "      box-shadow: 0px 1px 3px 1px rgba(0, 0, 0, 0.15);\n",
              "      filter: drop-shadow(0px 1px 2px rgba(0, 0, 0, 0.3));\n",
              "      fill: #FFFFFF;\n",
              "    }\n",
              "  </style>\n",
              "\n",
              "      <script>\n",
              "        const buttonEl =\n",
              "          document.querySelector('#df-e248c490-75c1-42ef-93de-64e336b5e9e3 button.colab-df-convert');\n",
              "        buttonEl.style.display =\n",
              "          google.colab.kernel.accessAllowed ? 'block' : 'none';\n",
              "\n",
              "        async function convertToInteractive(key) {\n",
              "          const element = document.querySelector('#df-e248c490-75c1-42ef-93de-64e336b5e9e3');\n",
              "          const dataTable =\n",
              "            await google.colab.kernel.invokeFunction('convertToInteractive',\n",
              "                                                     [key], {});\n",
              "          if (!dataTable) return;\n",
              "\n",
              "          const docLinkHtml = 'Like what you see? Visit the ' +\n",
              "            '<a target=\"_blank\" href=https://colab.research.google.com/notebooks/data_table.ipynb>data table notebook</a>'\n",
              "            + ' to learn more about interactive tables.';\n",
              "          element.innerHTML = '';\n",
              "          dataTable['output_type'] = 'display_data';\n",
              "          await google.colab.output.renderOutput(dataTable, element);\n",
              "          const docLink = document.createElement('div');\n",
              "          docLink.innerHTML = docLinkHtml;\n",
              "          element.appendChild(docLink);\n",
              "        }\n",
              "      </script>\n",
              "    </div>\n",
              "  </div>\n",
              "  "
            ]
          },
          "metadata": {},
          "execution_count": 23
        }
      ]
    },
    {
      "cell_type": "code",
      "source": [
        "dfsen['SENADORES'].loc[(dfsen['SENADORES'] == \"Latorre R., Juan Ignacio\")] = 0.1\n",
        "dfsen['SENADORES'].loc[(dfsen['SENADORES'] == \"Coloma C., Juan Antonio\")] = 0.2 \n",
        "dfsen['SENADORES'].loc[(dfsen['SENADORES'] == \"García R., José\")] = 0.3\n",
        "dfsen['SENADORES'].loc[(dfsen['SENADORES'] == \"Bianchi C., Carlos\")] = 0.4\n",
        "dfsen['SENADORES'].loc[(dfsen['SENADORES'] == \"Navarro B., Alejandro\")] = 0.5\n",
        "dfsen['SENADORES'].loc[(dfsen['SENADORES'] == \"Allende B., Isabel\")] = 0.6\n",
        "dfsen['SENADORES'].loc[(dfsen['SENADORES'] == \"Lagos W., Ricardo\")] = 0.7\n",
        "dfsen['SENADORES'].loc[(dfsen['SENADORES'] == \"García Huidobro S., Alejandro\")] = 0.8\n",
        "dfsen['SENADORES'].loc[(dfsen['SENADORES'] == \"Guillier Á., Alejandro\")] = 0.9\n",
        "dfsen['SENADORES'].loc[(dfsen['SENADORES'] == \"Durana S., José Miguel\")] = 1.1\n",
        "dfsen['SENADORES'].loc[(dfsen['SENADORES'] == \"Prohens E., Rafael\")] = 1.2\n",
        "dfsen['SENADORES'].loc[(dfsen['SENADORES'] == \"Pugh O., Kenneth\")] = 1.3\n",
        "dfsen['SENADORES'].loc[(dfsen['SENADORES'] == \"Elizalde S., Alvaro\")] = 1.4\n",
        "dfsen['SENADORES'].loc[(dfsen['SENADORES'] == \"Galilea V., Rodrigo\")] = 1.5\n",
        "dfsen['SENADORES'].loc[(dfsen['SENADORES'] == \"Huenchumilla J., Francisco\")] = 1.6\n",
        "dfsen['SENADORES'].loc[(dfsen['SENADORES'] == \"Sandoval P., David\")] = 1.7\n",
        "dfsen['SENADORES'].loc[(dfsen['SENADORES'] == \"Pizarro S., Jorge\")] = 1.8\n",
        "dfsen['SENADORES'].loc[(dfsen['SENADORES'] == \"Girardi L., Guido\")] = 1.9\n",
        "dfsen['SENADORES'].loc[(dfsen['SENADORES'] == \"Letelier M., Juan Pablo\")] = 21\n",
        "dfsen['SENADORES'].loc[(dfsen['SENADORES'] == \"Pérez V., Víctor\")] = 2.2\n",
        "dfsen['SENADORES'].loc[(dfsen['SENADORES'] == \"Chahuán C., Francisco\")] = 2.3\n",
        "dfsen['SENADORES'].loc[(dfsen['SENADORES'] == \"Quintana L., Jaime\")] = 2.4\n",
        "dfsen['SENADORES'].loc[(dfsen['SENADORES'] == \"Rincón G., Ximena\")] = 2.5\n",
        "dfsen['SENADORES'].loc[(dfsen['SENADORES'] == \"Von Baer J., Ena\")] = 2.6\n",
        "dfsen['SENADORES'].loc[(dfsen['SENADORES'] == \"Araya G., Pedro\")] = 2.7\n",
        "dfsen['SENADORES'].loc[(dfsen['SENADORES'] == \"Van Rysselberghe H., Jacqueline\")] = 2.8\n",
        "dfsen['SENADORES'].loc[(dfsen['SENADORES'] == \"Goic B., Carolina\")] = 2.9\n",
        "dfsen['SENADORES'].loc[(dfsen['SENADORES'] == \"Harboe B., Felipe\")] = 3.1\n",
        "dfsen['SENADORES'].loc[(dfsen['SENADORES'] == \"De Urresti L., Alfonso\")] = 3.2\n",
        "dfsen['SENADORES'].loc[(dfsen['SENADORES'] == \"Quinteros L., Rabindranath\")] = 3.3\n",
        "dfsen['SENADORES'].loc[(dfsen['SENADORES'] == \"Moreira B., Iván\")] = 3.4\n",
        "dfsen['SENADORES'].loc[(dfsen['SENADORES'] == \"Muñoz D., Adriana\")] = 3.5\n",
        "dfsen['SENADORES'].loc[(dfsen['SENADORES'] == \"Ossandón I., Manuel José\")] = 3.6\n",
        "dfsen['SENADORES'].loc[(dfsen['SENADORES'] == \"Insulza S., José Miguel\")] = 3.7\n",
        "dfsen['SENADORES'].loc[(dfsen['SENADORES'] == \"Ebensperger O., Luz Eliana\")] = 3.8\n",
        "dfsen['SENADORES'].loc[(dfsen['SENADORES'] == \"Soria Q., Jorge\")] = 3.9\n",
        "dfsen['SENADORES'].loc[(dfsen['SENADORES'] == \"Provoste C., Yasna\")] = 4.1\n",
        "dfsen['SENADORES'].loc[(dfsen['SENADORES'] == \"Castro P., Juan\")] = 4.2\n",
        "dfsen['SENADORES'].loc[(dfsen['SENADORES'] == \"Aravena A., Carmen Gloria\")] = 4.3\n",
        "dfsen['SENADORES'].loc[(dfsen['SENADORES'] == \"Kast S., Felipe\")] = 4.4\n",
        "dfsen['SENADORES'].loc[(dfsen['SENADORES'] == \"Órdenes N., Ximena\")] = 4.5\n",
        "dfsen['SENADORES'].loc[(dfsen['SENADORES'] == \"Allamand Z., Andrés\")] = 4.6\n",
        "dfsen['SENADORES'].loc[(dfsen['SENADORES'] == \"Montes C., Carlos\")] = 4.7\n",
        "dfsen['SENADORES'].loc[(dfsen['SENADORES'] == \"Alvarado A., Claudio\")] = 4.8\n",
        "dfsen['SENADORES'].loc[(dfsen['SENADORES'] == \"Sabat F., Marcela\")] = 4.9\n",
        "g = pd.DataFrame(dfsen['SENADORES'])\n",
        "g.columns = ['VALUE']\n",
        "g"
      ],
      "metadata": {
        "id": "LmKwHZIxyqDm",
        "colab": {
          "base_uri": "https://localhost:8080/",
          "height": 1000
        },
        "outputId": "620e1d3b-c36e-403b-ce98-3bf7ba58c328"
      },
      "execution_count": 24,
      "outputs": [
        {
          "output_type": "execute_result",
          "data": {
            "text/plain": [
              "   VALUE\n",
              "0    0.1\n",
              "1    0.2\n",
              "2    0.3\n",
              "3    0.4\n",
              "4    0.5\n",
              "5    0.6\n",
              "6    0.7\n",
              "7    0.8\n",
              "8    0.9\n",
              "9    1.1\n",
              "10   1.2\n",
              "11   1.3\n",
              "12   1.4\n",
              "13   1.5\n",
              "14   1.6\n",
              "15   1.7\n",
              "16   1.8\n",
              "17   1.9\n",
              "18    21\n",
              "19   2.2\n",
              "20   2.3\n",
              "21   2.4\n",
              "22   2.5\n",
              "23   2.6\n",
              "24   2.7\n",
              "25   2.8\n",
              "26   2.9\n",
              "27   3.1\n",
              "28   3.2\n",
              "29   3.3\n",
              "30   3.4\n",
              "31   3.5\n",
              "32   3.6\n",
              "33   3.7\n",
              "34   3.8\n",
              "35   3.9\n",
              "36   4.1\n",
              "37   4.2\n",
              "38   4.3\n",
              "39   4.4\n",
              "40   4.5\n",
              "41   4.6\n",
              "42   4.7\n",
              "43   4.8\n",
              "44   4.9"
            ],
            "text/html": [
              "\n",
              "  <div id=\"df-143dc575-cee2-46d3-821c-4248791416da\">\n",
              "    <div class=\"colab-df-container\">\n",
              "      <div>\n",
              "<style scoped>\n",
              "    .dataframe tbody tr th:only-of-type {\n",
              "        vertical-align: middle;\n",
              "    }\n",
              "\n",
              "    .dataframe tbody tr th {\n",
              "        vertical-align: top;\n",
              "    }\n",
              "\n",
              "    .dataframe thead th {\n",
              "        text-align: right;\n",
              "    }\n",
              "</style>\n",
              "<table border=\"1\" class=\"dataframe\">\n",
              "  <thead>\n",
              "    <tr style=\"text-align: right;\">\n",
              "      <th></th>\n",
              "      <th>VALUE</th>\n",
              "    </tr>\n",
              "  </thead>\n",
              "  <tbody>\n",
              "    <tr>\n",
              "      <th>0</th>\n",
              "      <td>0.1</td>\n",
              "    </tr>\n",
              "    <tr>\n",
              "      <th>1</th>\n",
              "      <td>0.2</td>\n",
              "    </tr>\n",
              "    <tr>\n",
              "      <th>2</th>\n",
              "      <td>0.3</td>\n",
              "    </tr>\n",
              "    <tr>\n",
              "      <th>3</th>\n",
              "      <td>0.4</td>\n",
              "    </tr>\n",
              "    <tr>\n",
              "      <th>4</th>\n",
              "      <td>0.5</td>\n",
              "    </tr>\n",
              "    <tr>\n",
              "      <th>5</th>\n",
              "      <td>0.6</td>\n",
              "    </tr>\n",
              "    <tr>\n",
              "      <th>6</th>\n",
              "      <td>0.7</td>\n",
              "    </tr>\n",
              "    <tr>\n",
              "      <th>7</th>\n",
              "      <td>0.8</td>\n",
              "    </tr>\n",
              "    <tr>\n",
              "      <th>8</th>\n",
              "      <td>0.9</td>\n",
              "    </tr>\n",
              "    <tr>\n",
              "      <th>9</th>\n",
              "      <td>1.1</td>\n",
              "    </tr>\n",
              "    <tr>\n",
              "      <th>10</th>\n",
              "      <td>1.2</td>\n",
              "    </tr>\n",
              "    <tr>\n",
              "      <th>11</th>\n",
              "      <td>1.3</td>\n",
              "    </tr>\n",
              "    <tr>\n",
              "      <th>12</th>\n",
              "      <td>1.4</td>\n",
              "    </tr>\n",
              "    <tr>\n",
              "      <th>13</th>\n",
              "      <td>1.5</td>\n",
              "    </tr>\n",
              "    <tr>\n",
              "      <th>14</th>\n",
              "      <td>1.6</td>\n",
              "    </tr>\n",
              "    <tr>\n",
              "      <th>15</th>\n",
              "      <td>1.7</td>\n",
              "    </tr>\n",
              "    <tr>\n",
              "      <th>16</th>\n",
              "      <td>1.8</td>\n",
              "    </tr>\n",
              "    <tr>\n",
              "      <th>17</th>\n",
              "      <td>1.9</td>\n",
              "    </tr>\n",
              "    <tr>\n",
              "      <th>18</th>\n",
              "      <td>21</td>\n",
              "    </tr>\n",
              "    <tr>\n",
              "      <th>19</th>\n",
              "      <td>2.2</td>\n",
              "    </tr>\n",
              "    <tr>\n",
              "      <th>20</th>\n",
              "      <td>2.3</td>\n",
              "    </tr>\n",
              "    <tr>\n",
              "      <th>21</th>\n",
              "      <td>2.4</td>\n",
              "    </tr>\n",
              "    <tr>\n",
              "      <th>22</th>\n",
              "      <td>2.5</td>\n",
              "    </tr>\n",
              "    <tr>\n",
              "      <th>23</th>\n",
              "      <td>2.6</td>\n",
              "    </tr>\n",
              "    <tr>\n",
              "      <th>24</th>\n",
              "      <td>2.7</td>\n",
              "    </tr>\n",
              "    <tr>\n",
              "      <th>25</th>\n",
              "      <td>2.8</td>\n",
              "    </tr>\n",
              "    <tr>\n",
              "      <th>26</th>\n",
              "      <td>2.9</td>\n",
              "    </tr>\n",
              "    <tr>\n",
              "      <th>27</th>\n",
              "      <td>3.1</td>\n",
              "    </tr>\n",
              "    <tr>\n",
              "      <th>28</th>\n",
              "      <td>3.2</td>\n",
              "    </tr>\n",
              "    <tr>\n",
              "      <th>29</th>\n",
              "      <td>3.3</td>\n",
              "    </tr>\n",
              "    <tr>\n",
              "      <th>30</th>\n",
              "      <td>3.4</td>\n",
              "    </tr>\n",
              "    <tr>\n",
              "      <th>31</th>\n",
              "      <td>3.5</td>\n",
              "    </tr>\n",
              "    <tr>\n",
              "      <th>32</th>\n",
              "      <td>3.6</td>\n",
              "    </tr>\n",
              "    <tr>\n",
              "      <th>33</th>\n",
              "      <td>3.7</td>\n",
              "    </tr>\n",
              "    <tr>\n",
              "      <th>34</th>\n",
              "      <td>3.8</td>\n",
              "    </tr>\n",
              "    <tr>\n",
              "      <th>35</th>\n",
              "      <td>3.9</td>\n",
              "    </tr>\n",
              "    <tr>\n",
              "      <th>36</th>\n",
              "      <td>4.1</td>\n",
              "    </tr>\n",
              "    <tr>\n",
              "      <th>37</th>\n",
              "      <td>4.2</td>\n",
              "    </tr>\n",
              "    <tr>\n",
              "      <th>38</th>\n",
              "      <td>4.3</td>\n",
              "    </tr>\n",
              "    <tr>\n",
              "      <th>39</th>\n",
              "      <td>4.4</td>\n",
              "    </tr>\n",
              "    <tr>\n",
              "      <th>40</th>\n",
              "      <td>4.5</td>\n",
              "    </tr>\n",
              "    <tr>\n",
              "      <th>41</th>\n",
              "      <td>4.6</td>\n",
              "    </tr>\n",
              "    <tr>\n",
              "      <th>42</th>\n",
              "      <td>4.7</td>\n",
              "    </tr>\n",
              "    <tr>\n",
              "      <th>43</th>\n",
              "      <td>4.8</td>\n",
              "    </tr>\n",
              "    <tr>\n",
              "      <th>44</th>\n",
              "      <td>4.9</td>\n",
              "    </tr>\n",
              "  </tbody>\n",
              "</table>\n",
              "</div>\n",
              "      <button class=\"colab-df-convert\" onclick=\"convertToInteractive('df-143dc575-cee2-46d3-821c-4248791416da')\"\n",
              "              title=\"Convert this dataframe to an interactive table.\"\n",
              "              style=\"display:none;\">\n",
              "        \n",
              "  <svg xmlns=\"http://www.w3.org/2000/svg\" height=\"24px\"viewBox=\"0 0 24 24\"\n",
              "       width=\"24px\">\n",
              "    <path d=\"M0 0h24v24H0V0z\" fill=\"none\"/>\n",
              "    <path d=\"M18.56 5.44l.94 2.06.94-2.06 2.06-.94-2.06-.94-.94-2.06-.94 2.06-2.06.94zm-11 1L8.5 8.5l.94-2.06 2.06-.94-2.06-.94L8.5 2.5l-.94 2.06-2.06.94zm10 10l.94 2.06.94-2.06 2.06-.94-2.06-.94-.94-2.06-.94 2.06-2.06.94z\"/><path d=\"M17.41 7.96l-1.37-1.37c-.4-.4-.92-.59-1.43-.59-.52 0-1.04.2-1.43.59L10.3 9.45l-7.72 7.72c-.78.78-.78 2.05 0 2.83L4 21.41c.39.39.9.59 1.41.59.51 0 1.02-.2 1.41-.59l7.78-7.78 2.81-2.81c.8-.78.8-2.07 0-2.86zM5.41 20L4 18.59l7.72-7.72 1.47 1.35L5.41 20z\"/>\n",
              "  </svg>\n",
              "      </button>\n",
              "      \n",
              "  <style>\n",
              "    .colab-df-container {\n",
              "      display:flex;\n",
              "      flex-wrap:wrap;\n",
              "      gap: 12px;\n",
              "    }\n",
              "\n",
              "    .colab-df-convert {\n",
              "      background-color: #E8F0FE;\n",
              "      border: none;\n",
              "      border-radius: 50%;\n",
              "      cursor: pointer;\n",
              "      display: none;\n",
              "      fill: #1967D2;\n",
              "      height: 32px;\n",
              "      padding: 0 0 0 0;\n",
              "      width: 32px;\n",
              "    }\n",
              "\n",
              "    .colab-df-convert:hover {\n",
              "      background-color: #E2EBFA;\n",
              "      box-shadow: 0px 1px 2px rgba(60, 64, 67, 0.3), 0px 1px 3px 1px rgba(60, 64, 67, 0.15);\n",
              "      fill: #174EA6;\n",
              "    }\n",
              "\n",
              "    [theme=dark] .colab-df-convert {\n",
              "      background-color: #3B4455;\n",
              "      fill: #D2E3FC;\n",
              "    }\n",
              "\n",
              "    [theme=dark] .colab-df-convert:hover {\n",
              "      background-color: #434B5C;\n",
              "      box-shadow: 0px 1px 3px 1px rgba(0, 0, 0, 0.15);\n",
              "      filter: drop-shadow(0px 1px 2px rgba(0, 0, 0, 0.3));\n",
              "      fill: #FFFFFF;\n",
              "    }\n",
              "  </style>\n",
              "\n",
              "      <script>\n",
              "        const buttonEl =\n",
              "          document.querySelector('#df-143dc575-cee2-46d3-821c-4248791416da button.colab-df-convert');\n",
              "        buttonEl.style.display =\n",
              "          google.colab.kernel.accessAllowed ? 'block' : 'none';\n",
              "\n",
              "        async function convertToInteractive(key) {\n",
              "          const element = document.querySelector('#df-143dc575-cee2-46d3-821c-4248791416da');\n",
              "          const dataTable =\n",
              "            await google.colab.kernel.invokeFunction('convertToInteractive',\n",
              "                                                     [key], {});\n",
              "          if (!dataTable) return;\n",
              "\n",
              "          const docLinkHtml = 'Like what you see? Visit the ' +\n",
              "            '<a target=\"_blank\" href=https://colab.research.google.com/notebooks/data_table.ipynb>data table notebook</a>'\n",
              "            + ' to learn more about interactive tables.';\n",
              "          element.innerHTML = '';\n",
              "          dataTable['output_type'] = 'display_data';\n",
              "          await google.colab.output.renderOutput(dataTable, element);\n",
              "          const docLink = document.createElement('div');\n",
              "          docLink.innerHTML = docLinkHtml;\n",
              "          element.appendChild(docLink);\n",
              "        }\n",
              "      </script>\n",
              "    </div>\n",
              "  </div>\n",
              "  "
            ]
          },
          "metadata": {},
          "execution_count": 24
        }
      ]
    },
    {
      "cell_type": "code",
      "source": [
        "#dffinal.columns = ['VALUE','SENADORES', 'NULO', 'SI', 'NO', 'ABSTENCION', 'PAREO']\n",
        "dffinal = pd.concat([g,dffinal], axis=1)\n",
        "dffinal"
      ],
      "metadata": {
        "id": "Wn4gd2C-S3OZ",
        "colab": {
          "base_uri": "https://localhost:8080/",
          "height": 1000
        },
        "outputId": "12e3f0ef-01f3-43d3-be18-27a2a4833a3b"
      },
      "execution_count": 25,
      "outputs": [
        {
          "output_type": "execute_result",
          "data": {
            "text/plain": [
              "   VALUE                        SENADORES  NULO   SI  NO  ABSTENCION  PAREO\n",
              "0    0.1         Latorre R., Juan Ignacio    41  310  41          32      0\n",
              "1    0.2          Coloma C., Juan Antonio    95  280  33          14      2\n",
              "2    0.3                  García R., José   100  290  23          10      1\n",
              "3    0.4               Bianchi C., Carlos   130  270  19           5      0\n",
              "4    0.5            Navarro B., Alejandro   151  223  32          18      0\n",
              "5    0.6               Allende B., Isabel   150  243  24           7      0\n",
              "6    0.7                Lagos W., Ricardo   164  243  14           3      0\n",
              "7    0.8    García Huidobro S., Alejandro   100  286  33           4      1\n",
              "8    0.9           Guillier Á., Alejandro   123  255  25          11     10\n",
              "9    1.1           Durana S., José Miguel    39  333  37          14      1\n",
              "10   1.2               Prohens E., Rafael    97  292  27           4      4\n",
              "11   1.3                 Pugh O., Kenneth    73  313  29           7      2\n",
              "12   1.4              Elizalde S., Alvaro    44  339  29          10      2\n",
              "13   1.5              Galilea V., Rodrigo    91  293  25           9      6\n",
              "14   1.6       Huenchumilla J., Francisco   125  269  20          10      0\n",
              "15   1.7               Sandoval P., David    40  343  27          14      0\n",
              "16   1.8                Pizarro S., Jorge   141  255  18           7      3\n",
              "17   1.9                Girardi L., Guido   198  208  15           1      2\n",
              "18    21          Letelier M., Juan Pablo   111  281  22           9      1\n",
              "19   2.2                 Pérez V., Víctor   170  216  15           7     16\n",
              "20   2.3            Chahuán C., Francisco    84  309  20           8      3\n",
              "21   2.4               Quintana L., Jaime   167  229  15          13      0\n",
              "22   2.5                Rincón G., Ximena    98  274  27          25      0\n",
              "23   2.6                 Von Baer J., Ena   135  249  32           8      0\n",
              "24   2.7                  Araya G., Pedro   175  227  16           5      1\n",
              "25   2.8  Van Rysselberghe H., Jacqueline   222  168  23          11      0\n",
              "26   2.9                Goic B., Carolina   121  279  17           7      0\n",
              "27   3.1                Harboe B., Felipe   193  207  10          12      2\n",
              "28   3.2           De Urresti L., Alfonso   128  266  20           9      1\n",
              "29   3.3       Quinteros L., Rabindranath    95  293  20          15      1\n",
              "30   3.4                 Moreira B., Iván   147  247  19           6      5\n",
              "31   3.5                Muñoz D., Adriana   116  273  21          13      1\n",
              "32   3.6         Ossandón I., Manuel José    73  326  16           4      5\n",
              "33   3.7          Insulza S., José Miguel   114  285  15           8      2\n",
              "34   3.8       Ebensperger O., Luz Eliana    63  313  35          13      0\n",
              "35   3.9                  Soria Q., Jorge   188  214  18           4      0\n",
              "36   4.1               Provoste C., Yasna    75  286  31          32      0\n",
              "37   4.2                  Castro P., Juan    47  344  26           7      0\n",
              "38   4.3        Aravena A., Carmen Gloria    59  319  32           9      5\n",
              "39   4.4                  Kast S., Felipe   212  187  19           6      0\n",
              "40   4.5               Órdenes N., Ximena    60  317  23          19      5\n",
              "41   4.6              Allamand Z., Andrés   199  200  15           6      4\n",
              "42   4.7                Montes C., Carlos   135  259  19          11      0\n",
              "43   4.8             Alvarado A., Claudio   396   22   4           2      0\n",
              "44   4.9                Sabat F., Marcela   394   24   2           3      1"
            ],
            "text/html": [
              "\n",
              "  <div id=\"df-355d15a0-c16a-4b5c-bad8-0b9d8a8e9f35\">\n",
              "    <div class=\"colab-df-container\">\n",
              "      <div>\n",
              "<style scoped>\n",
              "    .dataframe tbody tr th:only-of-type {\n",
              "        vertical-align: middle;\n",
              "    }\n",
              "\n",
              "    .dataframe tbody tr th {\n",
              "        vertical-align: top;\n",
              "    }\n",
              "\n",
              "    .dataframe thead th {\n",
              "        text-align: right;\n",
              "    }\n",
              "</style>\n",
              "<table border=\"1\" class=\"dataframe\">\n",
              "  <thead>\n",
              "    <tr style=\"text-align: right;\">\n",
              "      <th></th>\n",
              "      <th>VALUE</th>\n",
              "      <th>SENADORES</th>\n",
              "      <th>NULO</th>\n",
              "      <th>SI</th>\n",
              "      <th>NO</th>\n",
              "      <th>ABSTENCION</th>\n",
              "      <th>PAREO</th>\n",
              "    </tr>\n",
              "  </thead>\n",
              "  <tbody>\n",
              "    <tr>\n",
              "      <th>0</th>\n",
              "      <td>0.1</td>\n",
              "      <td>Latorre R., Juan Ignacio</td>\n",
              "      <td>41</td>\n",
              "      <td>310</td>\n",
              "      <td>41</td>\n",
              "      <td>32</td>\n",
              "      <td>0</td>\n",
              "    </tr>\n",
              "    <tr>\n",
              "      <th>1</th>\n",
              "      <td>0.2</td>\n",
              "      <td>Coloma C., Juan Antonio</td>\n",
              "      <td>95</td>\n",
              "      <td>280</td>\n",
              "      <td>33</td>\n",
              "      <td>14</td>\n",
              "      <td>2</td>\n",
              "    </tr>\n",
              "    <tr>\n",
              "      <th>2</th>\n",
              "      <td>0.3</td>\n",
              "      <td>García R., José</td>\n",
              "      <td>100</td>\n",
              "      <td>290</td>\n",
              "      <td>23</td>\n",
              "      <td>10</td>\n",
              "      <td>1</td>\n",
              "    </tr>\n",
              "    <tr>\n",
              "      <th>3</th>\n",
              "      <td>0.4</td>\n",
              "      <td>Bianchi C., Carlos</td>\n",
              "      <td>130</td>\n",
              "      <td>270</td>\n",
              "      <td>19</td>\n",
              "      <td>5</td>\n",
              "      <td>0</td>\n",
              "    </tr>\n",
              "    <tr>\n",
              "      <th>4</th>\n",
              "      <td>0.5</td>\n",
              "      <td>Navarro B., Alejandro</td>\n",
              "      <td>151</td>\n",
              "      <td>223</td>\n",
              "      <td>32</td>\n",
              "      <td>18</td>\n",
              "      <td>0</td>\n",
              "    </tr>\n",
              "    <tr>\n",
              "      <th>5</th>\n",
              "      <td>0.6</td>\n",
              "      <td>Allende B., Isabel</td>\n",
              "      <td>150</td>\n",
              "      <td>243</td>\n",
              "      <td>24</td>\n",
              "      <td>7</td>\n",
              "      <td>0</td>\n",
              "    </tr>\n",
              "    <tr>\n",
              "      <th>6</th>\n",
              "      <td>0.7</td>\n",
              "      <td>Lagos W., Ricardo</td>\n",
              "      <td>164</td>\n",
              "      <td>243</td>\n",
              "      <td>14</td>\n",
              "      <td>3</td>\n",
              "      <td>0</td>\n",
              "    </tr>\n",
              "    <tr>\n",
              "      <th>7</th>\n",
              "      <td>0.8</td>\n",
              "      <td>García Huidobro S., Alejandro</td>\n",
              "      <td>100</td>\n",
              "      <td>286</td>\n",
              "      <td>33</td>\n",
              "      <td>4</td>\n",
              "      <td>1</td>\n",
              "    </tr>\n",
              "    <tr>\n",
              "      <th>8</th>\n",
              "      <td>0.9</td>\n",
              "      <td>Guillier Á., Alejandro</td>\n",
              "      <td>123</td>\n",
              "      <td>255</td>\n",
              "      <td>25</td>\n",
              "      <td>11</td>\n",
              "      <td>10</td>\n",
              "    </tr>\n",
              "    <tr>\n",
              "      <th>9</th>\n",
              "      <td>1.1</td>\n",
              "      <td>Durana S., José Miguel</td>\n",
              "      <td>39</td>\n",
              "      <td>333</td>\n",
              "      <td>37</td>\n",
              "      <td>14</td>\n",
              "      <td>1</td>\n",
              "    </tr>\n",
              "    <tr>\n",
              "      <th>10</th>\n",
              "      <td>1.2</td>\n",
              "      <td>Prohens E., Rafael</td>\n",
              "      <td>97</td>\n",
              "      <td>292</td>\n",
              "      <td>27</td>\n",
              "      <td>4</td>\n",
              "      <td>4</td>\n",
              "    </tr>\n",
              "    <tr>\n",
              "      <th>11</th>\n",
              "      <td>1.3</td>\n",
              "      <td>Pugh O., Kenneth</td>\n",
              "      <td>73</td>\n",
              "      <td>313</td>\n",
              "      <td>29</td>\n",
              "      <td>7</td>\n",
              "      <td>2</td>\n",
              "    </tr>\n",
              "    <tr>\n",
              "      <th>12</th>\n",
              "      <td>1.4</td>\n",
              "      <td>Elizalde S., Alvaro</td>\n",
              "      <td>44</td>\n",
              "      <td>339</td>\n",
              "      <td>29</td>\n",
              "      <td>10</td>\n",
              "      <td>2</td>\n",
              "    </tr>\n",
              "    <tr>\n",
              "      <th>13</th>\n",
              "      <td>1.5</td>\n",
              "      <td>Galilea V., Rodrigo</td>\n",
              "      <td>91</td>\n",
              "      <td>293</td>\n",
              "      <td>25</td>\n",
              "      <td>9</td>\n",
              "      <td>6</td>\n",
              "    </tr>\n",
              "    <tr>\n",
              "      <th>14</th>\n",
              "      <td>1.6</td>\n",
              "      <td>Huenchumilla J., Francisco</td>\n",
              "      <td>125</td>\n",
              "      <td>269</td>\n",
              "      <td>20</td>\n",
              "      <td>10</td>\n",
              "      <td>0</td>\n",
              "    </tr>\n",
              "    <tr>\n",
              "      <th>15</th>\n",
              "      <td>1.7</td>\n",
              "      <td>Sandoval P., David</td>\n",
              "      <td>40</td>\n",
              "      <td>343</td>\n",
              "      <td>27</td>\n",
              "      <td>14</td>\n",
              "      <td>0</td>\n",
              "    </tr>\n",
              "    <tr>\n",
              "      <th>16</th>\n",
              "      <td>1.8</td>\n",
              "      <td>Pizarro S., Jorge</td>\n",
              "      <td>141</td>\n",
              "      <td>255</td>\n",
              "      <td>18</td>\n",
              "      <td>7</td>\n",
              "      <td>3</td>\n",
              "    </tr>\n",
              "    <tr>\n",
              "      <th>17</th>\n",
              "      <td>1.9</td>\n",
              "      <td>Girardi L., Guido</td>\n",
              "      <td>198</td>\n",
              "      <td>208</td>\n",
              "      <td>15</td>\n",
              "      <td>1</td>\n",
              "      <td>2</td>\n",
              "    </tr>\n",
              "    <tr>\n",
              "      <th>18</th>\n",
              "      <td>21</td>\n",
              "      <td>Letelier M., Juan Pablo</td>\n",
              "      <td>111</td>\n",
              "      <td>281</td>\n",
              "      <td>22</td>\n",
              "      <td>9</td>\n",
              "      <td>1</td>\n",
              "    </tr>\n",
              "    <tr>\n",
              "      <th>19</th>\n",
              "      <td>2.2</td>\n",
              "      <td>Pérez V., Víctor</td>\n",
              "      <td>170</td>\n",
              "      <td>216</td>\n",
              "      <td>15</td>\n",
              "      <td>7</td>\n",
              "      <td>16</td>\n",
              "    </tr>\n",
              "    <tr>\n",
              "      <th>20</th>\n",
              "      <td>2.3</td>\n",
              "      <td>Chahuán C., Francisco</td>\n",
              "      <td>84</td>\n",
              "      <td>309</td>\n",
              "      <td>20</td>\n",
              "      <td>8</td>\n",
              "      <td>3</td>\n",
              "    </tr>\n",
              "    <tr>\n",
              "      <th>21</th>\n",
              "      <td>2.4</td>\n",
              "      <td>Quintana L., Jaime</td>\n",
              "      <td>167</td>\n",
              "      <td>229</td>\n",
              "      <td>15</td>\n",
              "      <td>13</td>\n",
              "      <td>0</td>\n",
              "    </tr>\n",
              "    <tr>\n",
              "      <th>22</th>\n",
              "      <td>2.5</td>\n",
              "      <td>Rincón G., Ximena</td>\n",
              "      <td>98</td>\n",
              "      <td>274</td>\n",
              "      <td>27</td>\n",
              "      <td>25</td>\n",
              "      <td>0</td>\n",
              "    </tr>\n",
              "    <tr>\n",
              "      <th>23</th>\n",
              "      <td>2.6</td>\n",
              "      <td>Von Baer J., Ena</td>\n",
              "      <td>135</td>\n",
              "      <td>249</td>\n",
              "      <td>32</td>\n",
              "      <td>8</td>\n",
              "      <td>0</td>\n",
              "    </tr>\n",
              "    <tr>\n",
              "      <th>24</th>\n",
              "      <td>2.7</td>\n",
              "      <td>Araya G., Pedro</td>\n",
              "      <td>175</td>\n",
              "      <td>227</td>\n",
              "      <td>16</td>\n",
              "      <td>5</td>\n",
              "      <td>1</td>\n",
              "    </tr>\n",
              "    <tr>\n",
              "      <th>25</th>\n",
              "      <td>2.8</td>\n",
              "      <td>Van Rysselberghe H., Jacqueline</td>\n",
              "      <td>222</td>\n",
              "      <td>168</td>\n",
              "      <td>23</td>\n",
              "      <td>11</td>\n",
              "      <td>0</td>\n",
              "    </tr>\n",
              "    <tr>\n",
              "      <th>26</th>\n",
              "      <td>2.9</td>\n",
              "      <td>Goic B., Carolina</td>\n",
              "      <td>121</td>\n",
              "      <td>279</td>\n",
              "      <td>17</td>\n",
              "      <td>7</td>\n",
              "      <td>0</td>\n",
              "    </tr>\n",
              "    <tr>\n",
              "      <th>27</th>\n",
              "      <td>3.1</td>\n",
              "      <td>Harboe B., Felipe</td>\n",
              "      <td>193</td>\n",
              "      <td>207</td>\n",
              "      <td>10</td>\n",
              "      <td>12</td>\n",
              "      <td>2</td>\n",
              "    </tr>\n",
              "    <tr>\n",
              "      <th>28</th>\n",
              "      <td>3.2</td>\n",
              "      <td>De Urresti L., Alfonso</td>\n",
              "      <td>128</td>\n",
              "      <td>266</td>\n",
              "      <td>20</td>\n",
              "      <td>9</td>\n",
              "      <td>1</td>\n",
              "    </tr>\n",
              "    <tr>\n",
              "      <th>29</th>\n",
              "      <td>3.3</td>\n",
              "      <td>Quinteros L., Rabindranath</td>\n",
              "      <td>95</td>\n",
              "      <td>293</td>\n",
              "      <td>20</td>\n",
              "      <td>15</td>\n",
              "      <td>1</td>\n",
              "    </tr>\n",
              "    <tr>\n",
              "      <th>30</th>\n",
              "      <td>3.4</td>\n",
              "      <td>Moreira B., Iván</td>\n",
              "      <td>147</td>\n",
              "      <td>247</td>\n",
              "      <td>19</td>\n",
              "      <td>6</td>\n",
              "      <td>5</td>\n",
              "    </tr>\n",
              "    <tr>\n",
              "      <th>31</th>\n",
              "      <td>3.5</td>\n",
              "      <td>Muñoz D., Adriana</td>\n",
              "      <td>116</td>\n",
              "      <td>273</td>\n",
              "      <td>21</td>\n",
              "      <td>13</td>\n",
              "      <td>1</td>\n",
              "    </tr>\n",
              "    <tr>\n",
              "      <th>32</th>\n",
              "      <td>3.6</td>\n",
              "      <td>Ossandón I., Manuel José</td>\n",
              "      <td>73</td>\n",
              "      <td>326</td>\n",
              "      <td>16</td>\n",
              "      <td>4</td>\n",
              "      <td>5</td>\n",
              "    </tr>\n",
              "    <tr>\n",
              "      <th>33</th>\n",
              "      <td>3.7</td>\n",
              "      <td>Insulza S., José Miguel</td>\n",
              "      <td>114</td>\n",
              "      <td>285</td>\n",
              "      <td>15</td>\n",
              "      <td>8</td>\n",
              "      <td>2</td>\n",
              "    </tr>\n",
              "    <tr>\n",
              "      <th>34</th>\n",
              "      <td>3.8</td>\n",
              "      <td>Ebensperger O., Luz Eliana</td>\n",
              "      <td>63</td>\n",
              "      <td>313</td>\n",
              "      <td>35</td>\n",
              "      <td>13</td>\n",
              "      <td>0</td>\n",
              "    </tr>\n",
              "    <tr>\n",
              "      <th>35</th>\n",
              "      <td>3.9</td>\n",
              "      <td>Soria Q., Jorge</td>\n",
              "      <td>188</td>\n",
              "      <td>214</td>\n",
              "      <td>18</td>\n",
              "      <td>4</td>\n",
              "      <td>0</td>\n",
              "    </tr>\n",
              "    <tr>\n",
              "      <th>36</th>\n",
              "      <td>4.1</td>\n",
              "      <td>Provoste C., Yasna</td>\n",
              "      <td>75</td>\n",
              "      <td>286</td>\n",
              "      <td>31</td>\n",
              "      <td>32</td>\n",
              "      <td>0</td>\n",
              "    </tr>\n",
              "    <tr>\n",
              "      <th>37</th>\n",
              "      <td>4.2</td>\n",
              "      <td>Castro P., Juan</td>\n",
              "      <td>47</td>\n",
              "      <td>344</td>\n",
              "      <td>26</td>\n",
              "      <td>7</td>\n",
              "      <td>0</td>\n",
              "    </tr>\n",
              "    <tr>\n",
              "      <th>38</th>\n",
              "      <td>4.3</td>\n",
              "      <td>Aravena A., Carmen Gloria</td>\n",
              "      <td>59</td>\n",
              "      <td>319</td>\n",
              "      <td>32</td>\n",
              "      <td>9</td>\n",
              "      <td>5</td>\n",
              "    </tr>\n",
              "    <tr>\n",
              "      <th>39</th>\n",
              "      <td>4.4</td>\n",
              "      <td>Kast S., Felipe</td>\n",
              "      <td>212</td>\n",
              "      <td>187</td>\n",
              "      <td>19</td>\n",
              "      <td>6</td>\n",
              "      <td>0</td>\n",
              "    </tr>\n",
              "    <tr>\n",
              "      <th>40</th>\n",
              "      <td>4.5</td>\n",
              "      <td>Órdenes N., Ximena</td>\n",
              "      <td>60</td>\n",
              "      <td>317</td>\n",
              "      <td>23</td>\n",
              "      <td>19</td>\n",
              "      <td>5</td>\n",
              "    </tr>\n",
              "    <tr>\n",
              "      <th>41</th>\n",
              "      <td>4.6</td>\n",
              "      <td>Allamand Z., Andrés</td>\n",
              "      <td>199</td>\n",
              "      <td>200</td>\n",
              "      <td>15</td>\n",
              "      <td>6</td>\n",
              "      <td>4</td>\n",
              "    </tr>\n",
              "    <tr>\n",
              "      <th>42</th>\n",
              "      <td>4.7</td>\n",
              "      <td>Montes C., Carlos</td>\n",
              "      <td>135</td>\n",
              "      <td>259</td>\n",
              "      <td>19</td>\n",
              "      <td>11</td>\n",
              "      <td>0</td>\n",
              "    </tr>\n",
              "    <tr>\n",
              "      <th>43</th>\n",
              "      <td>4.8</td>\n",
              "      <td>Alvarado A., Claudio</td>\n",
              "      <td>396</td>\n",
              "      <td>22</td>\n",
              "      <td>4</td>\n",
              "      <td>2</td>\n",
              "      <td>0</td>\n",
              "    </tr>\n",
              "    <tr>\n",
              "      <th>44</th>\n",
              "      <td>4.9</td>\n",
              "      <td>Sabat F., Marcela</td>\n",
              "      <td>394</td>\n",
              "      <td>24</td>\n",
              "      <td>2</td>\n",
              "      <td>3</td>\n",
              "      <td>1</td>\n",
              "    </tr>\n",
              "  </tbody>\n",
              "</table>\n",
              "</div>\n",
              "      <button class=\"colab-df-convert\" onclick=\"convertToInteractive('df-355d15a0-c16a-4b5c-bad8-0b9d8a8e9f35')\"\n",
              "              title=\"Convert this dataframe to an interactive table.\"\n",
              "              style=\"display:none;\">\n",
              "        \n",
              "  <svg xmlns=\"http://www.w3.org/2000/svg\" height=\"24px\"viewBox=\"0 0 24 24\"\n",
              "       width=\"24px\">\n",
              "    <path d=\"M0 0h24v24H0V0z\" fill=\"none\"/>\n",
              "    <path d=\"M18.56 5.44l.94 2.06.94-2.06 2.06-.94-2.06-.94-.94-2.06-.94 2.06-2.06.94zm-11 1L8.5 8.5l.94-2.06 2.06-.94-2.06-.94L8.5 2.5l-.94 2.06-2.06.94zm10 10l.94 2.06.94-2.06 2.06-.94-2.06-.94-.94-2.06-.94 2.06-2.06.94z\"/><path d=\"M17.41 7.96l-1.37-1.37c-.4-.4-.92-.59-1.43-.59-.52 0-1.04.2-1.43.59L10.3 9.45l-7.72 7.72c-.78.78-.78 2.05 0 2.83L4 21.41c.39.39.9.59 1.41.59.51 0 1.02-.2 1.41-.59l7.78-7.78 2.81-2.81c.8-.78.8-2.07 0-2.86zM5.41 20L4 18.59l7.72-7.72 1.47 1.35L5.41 20z\"/>\n",
              "  </svg>\n",
              "      </button>\n",
              "      \n",
              "  <style>\n",
              "    .colab-df-container {\n",
              "      display:flex;\n",
              "      flex-wrap:wrap;\n",
              "      gap: 12px;\n",
              "    }\n",
              "\n",
              "    .colab-df-convert {\n",
              "      background-color: #E8F0FE;\n",
              "      border: none;\n",
              "      border-radius: 50%;\n",
              "      cursor: pointer;\n",
              "      display: none;\n",
              "      fill: #1967D2;\n",
              "      height: 32px;\n",
              "      padding: 0 0 0 0;\n",
              "      width: 32px;\n",
              "    }\n",
              "\n",
              "    .colab-df-convert:hover {\n",
              "      background-color: #E2EBFA;\n",
              "      box-shadow: 0px 1px 2px rgba(60, 64, 67, 0.3), 0px 1px 3px 1px rgba(60, 64, 67, 0.15);\n",
              "      fill: #174EA6;\n",
              "    }\n",
              "\n",
              "    [theme=dark] .colab-df-convert {\n",
              "      background-color: #3B4455;\n",
              "      fill: #D2E3FC;\n",
              "    }\n",
              "\n",
              "    [theme=dark] .colab-df-convert:hover {\n",
              "      background-color: #434B5C;\n",
              "      box-shadow: 0px 1px 3px 1px rgba(0, 0, 0, 0.15);\n",
              "      filter: drop-shadow(0px 1px 2px rgba(0, 0, 0, 0.3));\n",
              "      fill: #FFFFFF;\n",
              "    }\n",
              "  </style>\n",
              "\n",
              "      <script>\n",
              "        const buttonEl =\n",
              "          document.querySelector('#df-355d15a0-c16a-4b5c-bad8-0b9d8a8e9f35 button.colab-df-convert');\n",
              "        buttonEl.style.display =\n",
              "          google.colab.kernel.accessAllowed ? 'block' : 'none';\n",
              "\n",
              "        async function convertToInteractive(key) {\n",
              "          const element = document.querySelector('#df-355d15a0-c16a-4b5c-bad8-0b9d8a8e9f35');\n",
              "          const dataTable =\n",
              "            await google.colab.kernel.invokeFunction('convertToInteractive',\n",
              "                                                     [key], {});\n",
              "          if (!dataTable) return;\n",
              "\n",
              "          const docLinkHtml = 'Like what you see? Visit the ' +\n",
              "            '<a target=\"_blank\" href=https://colab.research.google.com/notebooks/data_table.ipynb>data table notebook</a>'\n",
              "            + ' to learn more about interactive tables.';\n",
              "          element.innerHTML = '';\n",
              "          dataTable['output_type'] = 'display_data';\n",
              "          await google.colab.output.renderOutput(dataTable, element);\n",
              "          const docLink = document.createElement('div');\n",
              "          docLink.innerHTML = docLinkHtml;\n",
              "          element.appendChild(docLink);\n",
              "        }\n",
              "      </script>\n",
              "    </div>\n",
              "  </div>\n",
              "  "
            ]
          },
          "metadata": {},
          "execution_count": 25
        }
      ]
    },
    {
      "cell_type": "code",
      "source": [
        "X = np.array(dffinal.drop(['SENADORES'],1))\n",
        "y = np.array(dffinal['VALUE'])\n",
        "y = y.astype('int')\n",
        "X.shape"
      ],
      "metadata": {
        "id": "ORokz0ZyjCHU",
        "colab": {
          "base_uri": "https://localhost:8080/"
        },
        "outputId": "4728a6db-2b72-4832-f153-5cc405148f75"
      },
      "execution_count": 26,
      "outputs": [
        {
          "output_type": "stream",
          "name": "stderr",
          "text": [
            "/usr/local/lib/python3.7/dist-packages/ipykernel_launcher.py:1: FutureWarning: In a future version of pandas all arguments of DataFrame.drop except for the argument 'labels' will be keyword-only\n",
            "  \"\"\"Entry point for launching an IPython kernel.\n"
          ]
        },
        {
          "output_type": "execute_result",
          "data": {
            "text/plain": [
              "(45, 6)"
            ]
          },
          "metadata": {},
          "execution_count": 26
        }
      ]
    },
    {
      "cell_type": "code",
      "source": [
        "model = linear_model.LogisticRegression(max_iter=1000)\n",
        "model.fit(X,y)"
      ],
      "metadata": {
        "id": "VZ11J1-xLLWt",
        "colab": {
          "base_uri": "https://localhost:8080/"
        },
        "outputId": "156a0c1e-b027-466e-adda-b100aaa410a0"
      },
      "execution_count": 27,
      "outputs": [
        {
          "output_type": "stream",
          "name": "stderr",
          "text": [
            "/usr/local/lib/python3.7/dist-packages/sklearn/linear_model/_logistic.py:818: ConvergenceWarning: lbfgs failed to converge (status=1):\n",
            "STOP: TOTAL NO. of ITERATIONS REACHED LIMIT.\n",
            "\n",
            "Increase the number of iterations (max_iter) or scale the data as shown in:\n",
            "    https://scikit-learn.org/stable/modules/preprocessing.html\n",
            "Please also refer to the documentation for alternative solver options:\n",
            "    https://scikit-learn.org/stable/modules/linear_model.html#logistic-regression\n",
            "  extra_warning_msg=_LOGISTIC_SOLVER_CONVERGENCE_MSG,\n"
          ]
        },
        {
          "output_type": "execute_result",
          "data": {
            "text/plain": [
              "LogisticRegression(max_iter=1000)"
            ]
          },
          "metadata": {},
          "execution_count": 27
        }
      ]
    },
    {
      "cell_type": "code",
      "source": [
        "predictions = model.predict(X)\n",
        "print(predictions[0:44])"
      ],
      "metadata": {
        "id": "r_QdsF4pLQvg",
        "colab": {
          "base_uri": "https://localhost:8080/"
        },
        "outputId": "f604b4e2-dd64-4d45-d1b8-c3f3fe2e148f"
      },
      "execution_count": 28,
      "outputs": [
        {
          "output_type": "stream",
          "name": "stdout",
          "text": [
            "[ 0  0  0  0  0  0  0  0  0  1  1  1  1  1  1  1  1  0 21  2  1  2  2  2\n",
            "  2  2  3  3  3  3  3  3  3  3  4  3  4  3  4  4  4  4  4  4]\n"
          ]
        }
      ]
    },
    {
      "cell_type": "code",
      "source": [
        "model.score(X,y)"
      ],
      "metadata": {
        "id": "3JRVprnaLeZ3",
        "colab": {
          "base_uri": "https://localhost:8080/"
        },
        "outputId": "a1f5a149-0b70-4353-edb2-bf17aabc5100"
      },
      "execution_count": 29,
      "outputs": [
        {
          "output_type": "execute_result",
          "data": {
            "text/plain": [
              "0.8888888888888888"
            ]
          },
          "metadata": {},
          "execution_count": 29
        }
      ]
    },
    {
      "cell_type": "code",
      "source": [
        "validation_size = 0.2\n",
        "seed = 45\n",
        "X_train, X_validation, Y_train, Y_validation = model_selection.train_test_split(X, y, test_size=validation_size, random_state=42)"
      ],
      "metadata": {
        "id": "-VvXaC8wlO3W"
      },
      "execution_count": 30,
      "outputs": []
    },
    {
      "cell_type": "code",
      "source": [
        "from sklearn.model_selection import KFold\n",
        "name='Logistic Regression'\n",
        "kfold = model_selection.KFold(n_splits=2, random_state=seed, shuffle=True)\n",
        "cv_results = model_selection.cross_val_score(model, X_train, Y_train, cv=kfold, scoring='accuracy')\n",
        "msg = \"%s: %f (%f)\" % (name, cv_results.mean(), cv_results.std())\n",
        "print(msg)"
      ],
      "metadata": {
        "id": "bbBJ84OEldoc",
        "colab": {
          "base_uri": "https://localhost:8080/"
        },
        "outputId": "6beb1501-ddc7-4443-a94d-5e915694dad9"
      },
      "execution_count": 31,
      "outputs": [
        {
          "output_type": "stream",
          "name": "stdout",
          "text": [
            "Logistic Regression: 0.277778 (0.055556)\n"
          ]
        }
      ]
    },
    {
      "cell_type": "code",
      "source": [
        "predictions = model.predict(X_validation)\n",
        "print(accuracy_score(Y_validation, predictions))"
      ],
      "metadata": {
        "id": "0YWxRKmtlwgX",
        "colab": {
          "base_uri": "https://localhost:8080/"
        },
        "outputId": "900b6376-8c5e-4965-8abb-c04f18777e30"
      },
      "execution_count": 32,
      "outputs": [
        {
          "output_type": "stream",
          "name": "stdout",
          "text": [
            "0.8888888888888888\n"
          ]
        }
      ]
    },
    {
      "cell_type": "markdown",
      "source": [
        "# SVM"
      ],
      "metadata": {
        "id": "xoZMOsJ5M0_t"
      }
    },
    {
      "cell_type": "code",
      "source": [
        "clf = svm.SVC(gamma=0.001, C=100)\n",
        "\n",
        "X2,y2 = X,y\n",
        "clf.fit(X2,y2)"
      ],
      "metadata": {
        "id": "k6q5xGN2DnKu",
        "colab": {
          "base_uri": "https://localhost:8080/"
        },
        "outputId": "320b030c-5a19-4463-f01d-82d23233ef56"
      },
      "execution_count": 33,
      "outputs": [
        {
          "output_type": "execute_result",
          "data": {
            "text/plain": [
              "SVC(C=100, gamma=0.001)"
            ]
          },
          "metadata": {},
          "execution_count": 33
        }
      ]
    },
    {
      "cell_type": "code",
      "source": [
        "print('Predicción: ',clf.predict([dffinal['VALUE'].head(6)]))"
      ],
      "metadata": {
        "id": "s23rorHnNI-s",
        "colab": {
          "base_uri": "https://localhost:8080/"
        },
        "outputId": "aed1251a-2666-444a-e9a8-d24f198c8b0c"
      },
      "execution_count": 34,
      "outputs": [
        {
          "output_type": "stream",
          "name": "stdout",
          "text": [
            "Predicción:  [2]\n"
          ]
        }
      ]
    },
    {
      "cell_type": "markdown",
      "source": [
        "# BAGGING"
      ],
      "metadata": {
        "id": "rG9A_fLfZKLS"
      }
    },
    {
      "cell_type": "code",
      "source": [
        "from sklearn.model_selection import train_test_split\n",
        "from sklearn.ensemble import BaggingRegressor\n",
        "from sklearn.tree import DecisionTreeRegressor\n",
        "from sklearn.model_selection import GridSearchCV\n",
        "\n",
        "Xtrain, Xtest, Ytrain, Ytest = train_test_split(X,y,test_size=0.2)\n",
        "mo = DecisionTreeRegressor() \n",
        "model = BaggingRegressor(mo, n_estimators=10)\n",
        "\n",
        "params = {\"base_estimator__max_depth\": [2,3],   # [3,4,5]\n",
        "          \"max_samples\": [0.1,0.2],\n",
        "          \"base_estimator__min_samples_split\": [2,3,4]}  # [2,3,4]\n",
        "grid = GridSearchCV(estimator=model, param_grid=params,cv=5)\n",
        "_=grid.fit(Xtrain, Ytrain)"
      ],
      "metadata": {
        "id": "SN1ZjQTBZx2s"
      },
      "execution_count": 35,
      "outputs": []
    },
    {
      "cell_type": "code",
      "source": [
        "print(grid.best_score_)\n",
        "print(grid.best_params_)"
      ],
      "metadata": {
        "id": "n3aq7qMyZ5eJ",
        "colab": {
          "base_uri": "https://localhost:8080/"
        },
        "outputId": "f40c3e6e-177c-4776-dc69-1e3f52b20856"
      },
      "execution_count": 36,
      "outputs": [
        {
          "output_type": "stream",
          "name": "stdout",
          "text": [
            "0.32072728759125474\n",
            "{'base_estimator__max_depth': 3, 'base_estimator__min_samples_split': 4, 'max_samples': 0.2}\n"
          ]
        }
      ]
    },
    {
      "cell_type": "code",
      "source": [
        "from sklearn.metrics import mean_squared_error\n",
        "from sklearn.metrics import mean_absolute_error\n",
        "from sklearn.metrics import r2_score\n",
        "\n",
        "Yhat = grid.predict(Xtest)\n",
        "\n",
        "mse = mean_squared_error(Ytest, Yhat)\n",
        "mae = mean_absolute_error(Ytest, Yhat)\n",
        "R2 = r2_score(Ytest, Yhat)\n",
        "\n",
        "print(\"MSE: \",mse)\n",
        "print(\"MAE: \",mae)\n",
        "print(\"R^2: \",R2)"
      ],
      "metadata": {
        "id": "EFwFqR1dZ-SH",
        "colab": {
          "base_uri": "https://localhost:8080/"
        },
        "outputId": "0db0e2e6-c257-49c2-bf8b-2699a42d9774"
      },
      "execution_count": 37,
      "outputs": [
        {
          "output_type": "stream",
          "name": "stdout",
          "text": [
            "MSE:  0.25180555555555556\n",
            "MAE:  0.37592592592592594\n",
            "R^2:  0.8038822115384615\n"
          ]
        }
      ]
    },
    {
      "cell_type": "markdown",
      "source": [
        "#RandomForest"
      ],
      "metadata": {
        "id": "kN_vb0WtaKDN"
      }
    },
    {
      "cell_type": "code",
      "source": [
        "from sklearn.model_selection import train_test_split\n",
        "from sklearn.ensemble import RandomForestRegressor\n",
        "from sklearn.model_selection import GridSearchCV\n",
        "\n",
        "Xtrain, Xtest, Ytrain, Ytest = train_test_split(X,y,test_size=0.2)\n",
        "\n",
        "model = RandomForestRegressor()\n",
        "\n",
        "params = {\"n_estimators\": [100],\n",
        "          #\"max_depth\": [2,3], \n",
        "          \"min_samples_split\": [2,3,4], \n",
        "          \"max_leaf_nodes\": [5,8,10,15]}\n",
        "\n",
        "grid = GridSearchCV(estimator=model, param_grid=params,cv=5)\n",
        "_=grid.fit(Xtrain, Ytrain)"
      ],
      "metadata": {
        "id": "Tt9pj35OaRiS"
      },
      "execution_count": 38,
      "outputs": []
    },
    {
      "cell_type": "code",
      "source": [
        "print(grid.best_score_)\n",
        "print(grid.best_params_)"
      ],
      "metadata": {
        "id": "ZHaoWwPTaZjz",
        "colab": {
          "base_uri": "https://localhost:8080/"
        },
        "outputId": "95016081-6714-4a08-a903-42cb802289c0"
      },
      "execution_count": 39,
      "outputs": [
        {
          "output_type": "stream",
          "name": "stdout",
          "text": [
            "0.9457551798022175\n",
            "{'max_leaf_nodes': 10, 'min_samples_split': 2, 'n_estimators': 100}\n"
          ]
        }
      ]
    },
    {
      "cell_type": "markdown",
      "source": [
        "# AdaBoost"
      ],
      "metadata": {
        "id": "_CuB5AotaiUz"
      }
    },
    {
      "cell_type": "code",
      "metadata": {
        "id": "udKlu0bHIZeq"
      },
      "source": [
        "from sklearn.model_selection import train_test_split\n",
        "from sklearn.ensemble import AdaBoostRegressor\n",
        "from sklearn.tree import DecisionTreeRegressor\n",
        "from sklearn.model_selection import GridSearchCV\n",
        "\n",
        "Xtrain, Xtest, Ytrain, Ytest = train_test_split(X,y,test_size=0.2)\n",
        "\n",
        "mo = DecisionTreeRegressor() \n",
        "model = AdaBoostRegressor(mo)\n",
        "\n",
        "params = {\"n_estimators\": [10],\n",
        "          \"base_estimator__max_depth\": [2,3],\n",
        "          \"base_estimator__max_leaf_nodes\": [5,8],\n",
        "          \"base_estimator__min_samples_split\": [2,3,4]} \n",
        "\n",
        "grid = GridSearchCV(estimator=model, param_grid=params,cv=5)\n",
        "_=grid.fit(Xtrain, Ytrain)"
      ],
      "execution_count": 40,
      "outputs": []
    },
    {
      "cell_type": "code",
      "source": [
        "print(grid.best_score_)\n",
        "print(grid.best_params_)"
      ],
      "metadata": {
        "id": "TskBhceMa3H1",
        "colab": {
          "base_uri": "https://localhost:8080/"
        },
        "outputId": "1b336c90-9a78-494a-d690-15a9affafdd4"
      },
      "execution_count": 41,
      "outputs": [
        {
          "output_type": "stream",
          "name": "stdout",
          "text": [
            "0.8164286539155963\n",
            "{'base_estimator__max_depth': 3, 'base_estimator__max_leaf_nodes': 8, 'base_estimator__min_samples_split': 4, 'n_estimators': 10}\n"
          ]
        }
      ]
    },
    {
      "cell_type": "code",
      "source": [
        "from sklearn.metrics import mean_squared_error\n",
        "from sklearn.metrics import mean_absolute_error\n",
        "from sklearn.metrics import r2_score\n",
        "\n",
        "Yhat = grid.predict(Xtest)\n",
        "\n",
        "mse = mean_squared_error(Ytest, Yhat)\n",
        "mae = mean_absolute_error(Ytest, Yhat)\n",
        "R2 = r2_score(Ytest, Yhat)\n",
        "\n",
        "print(\"MSE: \",mse)\n",
        "print(\"MAE: \",mae)\n",
        "print(\"R^2: \",R2)"
      ],
      "metadata": {
        "id": "E1BK_LR4bE3W",
        "colab": {
          "base_uri": "https://localhost:8080/"
        },
        "outputId": "bc82ecfd-0c56-48f9-b565-7ed34064ecbb"
      },
      "execution_count": 42,
      "outputs": [
        {
          "output_type": "stream",
          "name": "stdout",
          "text": [
            "MSE:  0.0\n",
            "MAE:  0.0\n",
            "R^2:  1.0\n"
          ]
        }
      ]
    },
    {
      "cell_type": "markdown",
      "source": [
        "# Gradient Boosting"
      ],
      "metadata": {
        "id": "JceLAr-qbGry"
      }
    },
    {
      "cell_type": "code",
      "source": [
        "from sklearn.model_selection import train_test_split\n",
        "from sklearn.ensemble import GradientBoostingRegressor\n",
        "from sklearn.model_selection import GridSearchCV\n",
        "\n",
        "Xtrain, Xtest, Ytrain, Ytest = train_test_split(X,y,test_size=0.2)\n",
        "\n",
        "model = GradientBoostingRegressor()\n",
        "\n",
        "params = {\"n_estimators\": [10],\n",
        "          \"learning_rate\": [0.01],\n",
        "          #\"max_depth\": [2,3,5,10], \n",
        "          \"min_samples_split\": [2,3,4], \n",
        "          \"max_leaf_nodes\": [5,10,15,20]\n",
        "          }\n",
        "\n",
        "grid = GridSearchCV(estimator=model, param_grid=params,cv=5)\n",
        "_=grid.fit(Xtrain, Ytrain)"
      ],
      "metadata": {
        "id": "d7zQ1n4HbJ7b"
      },
      "execution_count": 43,
      "outputs": []
    },
    {
      "cell_type": "code",
      "source": [
        "print(grid.best_score_)\n",
        "print(grid.best_params_)"
      ],
      "metadata": {
        "id": "tnBcEP0GbN4O",
        "colab": {
          "base_uri": "https://localhost:8080/"
        },
        "outputId": "87e324fc-15fa-4de3-93b6-7e40a047796e"
      },
      "execution_count": 44,
      "outputs": [
        {
          "output_type": "stream",
          "name": "stdout",
          "text": [
            "-0.2696030651334423\n",
            "{'learning_rate': 0.01, 'max_leaf_nodes': 5, 'min_samples_split': 2, 'n_estimators': 10}\n"
          ]
        }
      ]
    },
    {
      "cell_type": "code",
      "source": [
        "from sklearn.metrics import mean_squared_error\n",
        "from sklearn.metrics import mean_absolute_error\n",
        "from sklearn.metrics import r2_score\n",
        "\n",
        "Yhat = grid.predict(Xtest)\n",
        "\n",
        "mse = mean_squared_error(Ytest, Yhat)\n",
        "mae = mean_absolute_error(Ytest, Yhat)\n",
        "R2 = r2_score(Ytest, Yhat)\n",
        "\n",
        "print(\"MSE: \",mse)\n",
        "print(\"MAE: \",mae)\n",
        "print(\"R^2: \",R2)"
      ],
      "metadata": {
        "id": "pWZIk10UbQ7g",
        "colab": {
          "base_uri": "https://localhost:8080/"
        },
        "outputId": "33bdff67-df3d-415e-c770-0619cb289c7a"
      },
      "execution_count": 45,
      "outputs": [
        {
          "output_type": "stream",
          "name": "stdout",
          "text": [
            "MSE:  40.96335146097328\n",
            "MAE:  3.1980098554911396\n",
            "R^2:  -0.10527364035270992\n"
          ]
        }
      ]
    }
  ]
}